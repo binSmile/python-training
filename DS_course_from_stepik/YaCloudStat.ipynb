{
 "cells": [
  {
   "cell_type": "code",
   "execution_count": 1,
   "metadata": {
    "collapsed": true,
    "ExecuteTime": {
     "end_time": "2023-07-04T13:56:02.539340300Z",
     "start_time": "2023-07-04T13:56:02.409151100Z"
    }
   },
   "outputs": [],
   "source": [
    "import pandas as pd\n",
    "import seaborn as sns\n"
   ]
  },
  {
   "cell_type": "markdown",
   "source": [
    "# Анализ скорости изучения материала на курсе Yandex.Cloud инженер данных"
   ],
   "metadata": {
    "collapsed": false
   }
  },
  {
   "cell_type": "code",
   "execution_count": 2,
   "outputs": [],
   "source": [
    "file = 'Яндекс Облачные сервисы.md'"
   ],
   "metadata": {
    "collapsed": false,
    "ExecuteTime": {
     "end_time": "2023-07-04T13:56:02.796976800Z",
     "start_time": "2023-07-04T13:56:02.431090300Z"
    }
   }
  },
  {
   "cell_type": "code",
   "execution_count": 3,
   "outputs": [],
   "source": [
    "df  = pd.read_csv(file,sep=' ',skiprows=11) \\\n",
    "    .drop(0) \\\n",
    "    .drop(['|','|.1','|.2'],axis=1) \\\n",
    "    .rename({'День':'Day'},axis=1) \\\n",
    "    .fillna(method='ffill')"
   ],
   "metadata": {
    "collapsed": false,
    "ExecuteTime": {
     "end_time": "2023-07-04T13:56:02.834980400Z",
     "start_time": "2023-07-04T13:56:02.487339500Z"
    }
   }
  },
  {
   "cell_type": "code",
   "execution_count": 4,
   "outputs": [
    {
     "name": "stdout",
     "output_type": "stream",
     "text": [
      "<class 'pandas.core.frame.DataFrame'>\n",
      "RangeIndex: 23 entries, 1 to 23\n",
      "Data columns (total 4 columns):\n",
      " #   Column    Non-Null Count  Dtype \n",
      "---  ------    --------------  ----- \n",
      " 0   Day       23 non-null     object\n",
      " 1   start     23 non-null     object\n",
      " 2   stop      23 non-null     object\n",
      " 3   progress  23 non-null     object\n",
      "dtypes: object(4)\n",
      "memory usage: 868.0+ bytes\n"
     ]
    }
   ],
   "source": [
    "df.info()"
   ],
   "metadata": {
    "collapsed": false,
    "ExecuteTime": {
     "end_time": "2023-07-04T13:56:02.835981500Z",
     "start_time": "2023-07-04T13:56:02.541344700Z"
    }
   }
  },
  {
   "cell_type": "code",
   "execution_count": 5,
   "outputs": [
    {
     "name": "stderr",
     "output_type": "stream",
     "text": [
      "C:\\Users\\al\\AppData\\Local\\Temp\\ipykernel_21940\\1847058208.py:2: UserWarning: Parsing dates in %d.%m.%Y %H:%M format when dayfirst=False (the default) was specified. Pass `dayfirst=True` or specify a format to silence this warning.\n",
      "  df['tstart'] = pd.to_datetime(df.Day + ' ' + df.start)\n",
      "C:\\Users\\al\\AppData\\Local\\Temp\\ipykernel_21940\\1847058208.py:3: UserWarning: Parsing dates in %d.%m.%Y %H:%M format when dayfirst=False (the default) was specified. Pass `dayfirst=True` or specify a format to silence this warning.\n",
      "  df['tstop'] = pd.to_datetime(df.Day + ' ' + df.stop)\n"
     ]
    }
   ],
   "source": [
    "# df.Day = pd.to_datetime(df.Day,format='%d.%m.%Y')\n",
    "df['tstart'] = pd.to_datetime(df.Day + ' ' + df.start)\n",
    "df['tstop'] = pd.to_datetime(df.Day + ' ' + df.stop)"
   ],
   "metadata": {
    "collapsed": false,
    "ExecuteTime": {
     "end_time": "2023-07-04T13:56:02.837982400Z",
     "start_time": "2023-07-04T13:56:02.583391Z"
    }
   }
  },
  {
   "cell_type": "code",
   "execution_count": 6,
   "outputs": [],
   "source": [
    "df['dt'] = df.tstop - df.tstart\n",
    "df.progress = df.progress.str[:-1]\n",
    "df.progress = pd.to_numeric(df.progress)\n",
    "df['di'] = df.dt.cumsum()"
   ],
   "metadata": {
    "collapsed": false,
    "ExecuteTime": {
     "end_time": "2023-07-04T13:56:02.880981900Z",
     "start_time": "2023-07-04T13:56:02.621453200Z"
    }
   }
  },
  {
   "cell_type": "code",
   "execution_count": 7,
   "outputs": [
    {
     "data": {
      "text/plain": "<Axes: xlabel='di', ylabel='progress'>"
     },
     "execution_count": 7,
     "metadata": {},
     "output_type": "execute_result"
    },
    {
     "data": {
      "text/plain": "<Figure size 640x480 with 1 Axes>",
      "image/png": "[encoded data removed]"
     },
     "metadata": {},
     "output_type": "display_data"
    }
   ],
   "source": [
    "sns.lineplot(data=df,x='di',y='progress')"
   ],
   "metadata": {
    "collapsed": false,
    "ExecuteTime": {
     "end_time": "2023-07-04T13:56:03.411979500Z",
     "start_time": "2023-07-04T13:56:02.641980300Z"
    }
   }
  },
  {
   "cell_type": "code",
   "execution_count": 8,
   "outputs": [],
   "source": [
    "from sklearn.linear_model import LinearRegression"
   ],
   "metadata": {
    "collapsed": false,
    "ExecuteTime": {
     "end_time": "2023-07-04T13:56:03.974042200Z",
     "start_time": "2023-07-04T13:56:03.415978600Z"
    }
   }
  },
  {
   "cell_type": "code",
   "execution_count": 9,
   "outputs": [],
   "source": [
    "df['dt'] = df['dt'] / pd.Timedelta(minutes=1)\n",
    "df['di'] = df['di'] / pd.Timedelta(minutes=1)"
   ],
   "metadata": {
    "collapsed": false,
    "ExecuteTime": {
     "end_time": "2023-07-04T13:56:03.991045100Z",
     "start_time": "2023-07-04T13:56:03.977044400Z"
    }
   }
  },
  {
   "cell_type": "code",
   "execution_count": 10,
   "outputs": [],
   "source": [
    "X = df.di.values.reshape(-1, 1)  # values converts it into a numpy array\n",
    "Y = df.progress.values.reshape(-1, 1)  # -1 means that calculate the dimension of rows, but have 1 column\n",
    "linear_regressor = LinearRegression()  # create object for the class\n",
    "linear_regressor.fit(X, Y)  # perform linear regression\n",
    "Y_pred = linear_regressor.predict(X)  # make predictions"
   ],
   "metadata": {
    "collapsed": false,
    "ExecuteTime": {
     "end_time": "2023-07-04T13:56:04.046044300Z",
     "start_time": "2023-07-04T13:56:03.992046200Z"
    }
   }
  },
  {
   "cell_type": "code",
   "execution_count": 11,
   "outputs": [
    {
     "data": {
      "text/plain": "0.962365674574145"
     },
     "execution_count": 11,
     "metadata": {},
     "output_type": "execute_result"
    }
   ],
   "source": [
    "linear_regressor.score(X,Y)"
   ],
   "metadata": {
    "collapsed": false,
    "ExecuteTime": {
     "end_time": "2023-07-04T13:56:04.064044500Z",
     "start_time": "2023-07-04T13:56:04.041042700Z"
    }
   }
  },
  {
   "cell_type": "code",
   "execution_count": 12,
   "outputs": [
    {
     "data": {
      "text/plain": "<Figure size 640x480 with 1 Axes>",
      "image/png": "[encoded data removed]"
     },
     "metadata": {},
     "output_type": "display_data"
    }
   ],
   "source": [
    "import matplotlib.pyplot as plt  # To visualize\n",
    "plt.scatter(X, Y)\n",
    "plt.plot(X, Y_pred, color='red')\n",
    "plt.show()"
   ],
   "metadata": {
    "collapsed": false,
    "ExecuteTime": {
     "end_time": "2023-07-04T13:56:04.646542Z",
     "start_time": "2023-07-04T13:56:04.068045300Z"
    }
   }
  },
  {
   "cell_type": "code",
   "execution_count": 13,
   "outputs": [
    {
     "name": "stdout",
     "output_type": "stream",
     "text": [
      "[5.69487757]\n",
      "[[0.04095159]]\n"
     ]
    }
   ],
   "source": [
    "print(linear_regressor.intercept_)\n",
    "print(linear_regressor.coef_)"
   ],
   "metadata": {
    "collapsed": false,
    "ExecuteTime": {
     "end_time": "2023-07-04T13:56:04.659613300Z",
     "start_time": "2023-07-04T13:56:04.642543300Z"
    }
   }
  },
  {
   "cell_type": "code",
   "execution_count": 14,
   "outputs": [],
   "source": [
    "pace = linear_regressor.coef_ # progress per minute\n",
    "# 1% per 25 minutes"
   ],
   "metadata": {
    "collapsed": false,
    "ExecuteTime": {
     "end_time": "2023-07-04T13:56:04.740198800Z",
     "start_time": "2023-07-04T13:56:04.655610400Z"
    }
   }
  },
  {
   "cell_type": "markdown",
   "source": [
    "Итого скорость обучения 1% курса за 25 минут"
   ],
   "metadata": {
    "collapsed": false
   }
  },
  {
   "cell_type": "code",
   "execution_count": 15,
   "outputs": [
    {
     "data": {
      "text/plain": "33.266666666666666"
     },
     "execution_count": 15,
     "metadata": {},
     "output_type": "execute_result"
    }
   ],
   "source": [
    "df.di.max()/60"
   ],
   "metadata": {
    "collapsed": false,
    "ExecuteTime": {
     "end_time": "2023-07-04T13:56:04.741198600Z",
     "start_time": "2023-07-04T13:56:04.677374900Z"
    }
   }
  },
  {
   "cell_type": "markdown",
   "source": [
    "Всего затрачено на курс 33,3 часа времени"
   ],
   "metadata": {
    "collapsed": false
   }
  }
 ],
 "metadata": {
  "kernelspec": {
   "display_name": "Python 3",
   "language": "python",
   "name": "python3"
  },
  "language_info": {
   "codemirror_mode": {
    "name": "ipython",
    "version": 2
   },
   "file_extension": ".py",
   "mimetype": "text/x-python",
   "name": "python",
   "nbconvert_exporter": "python",
   "pygments_lexer": "ipython2",
   "version": "2.7.6"
  }
 },
 "nbformat": 4,
 "nbformat_minor": 0
}
