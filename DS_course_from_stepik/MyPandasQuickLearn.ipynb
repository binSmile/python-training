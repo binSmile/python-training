{
 "cells": [
  {
   "cell_type": "markdown",
   "source": [],
   "metadata": {
    "collapsed": false
   }
  },
  {
   "cell_type": "code",
   "execution_count": 2,
   "outputs": [],
   "source": [
    "import numpy as np\n",
    "import pandas as pd"
   ],
   "metadata": {
    "collapsed": false
   }
  },
  {
   "cell_type": "code",
   "execution_count": 3,
   "outputs": [],
   "source": [
    "df = pd.read_csv('User_actions_1782411_2023_04_27.csv')"
   ],
   "metadata": {
    "collapsed": false
   }
  },
  {
   "cell_type": "code",
   "execution_count": 20,
   "outputs": [
    {
     "name": "stdout",
     "output_type": "stream",
     "text": [
      "<class 'pandas.core.frame.DataFrame'>\n",
      "RangeIndex: 62574 entries, 0 to 62573\n",
      "Data columns (total 4 columns):\n",
      " #   Column    Non-Null Count  Dtype \n",
      "---  ------    --------------  ----- \n",
      " 0   user_id   62574 non-null  int64 \n",
      " 1   order_id  62574 non-null  int64 \n",
      " 2   action    62574 non-null  object\n",
      " 3   time      62574 non-null  object\n",
      "dtypes: int64(2), object(2)\n",
      "memory usage: 1.9+ MB\n"
     ]
    }
   ],
   "source": [
    "df.info()"
   ],
   "metadata": {
    "collapsed": false
   }
  },
  {
   "cell_type": "code",
   "execution_count": 30,
   "outputs": [
    {
     "name": "stdout",
     "output_type": "stream",
     "text": [
      "<class 'pandas.core.frame.DataFrame'>\n",
      "RangeIndex: 62574 entries, 0 to 62573\n",
      "Data columns (total 4 columns):\n",
      " #   Column    Non-Null Count  Dtype         \n",
      "---  ------    --------------  -----         \n",
      " 0   user_id   62574 non-null  int64         \n",
      " 1   order_id  62574 non-null  int64         \n",
      " 2   action    62574 non-null  object        \n",
      " 3   time      62574 non-null  datetime64[ns]\n",
      "dtypes: datetime64[ns](1), int64(2), object(1)\n",
      "memory usage: 1.9+ MB\n"
     ]
    }
   ],
   "source": [
    "df.time = pd.to_datetime(df['time'],format='%d/%m/%y %H:%M')\n",
    "df.info()"
   ],
   "metadata": {
    "collapsed": false
   }
  },
  {
   "cell_type": "code",
   "execution_count": 31,
   "outputs": [],
   "source": [
    "created_orders = df[df.action == 'create_order'] \\\n",
    "    .sort_values(['user_id','time'],ascending=[1,2])\\\n",
    "    .copy()"
   ],
   "metadata": {
    "collapsed": false
   }
  },
  {
   "cell_type": "code",
   "execution_count": 32,
   "outputs": [
    {
     "data": {
      "text/plain": "       user_id  order_id        action                time\n0            1         1  create_order 2022-08-24 01:52:00\n4912         1      4683  create_order 2022-08-27 20:56:00\n24084        1     22901  create_order 2022-09-02 00:58:00\n24343        1     23149  create_order 2022-09-02 02:36:00\n1            2         2  create_order 2022-08-24 06:37:00",
      "text/html": "<div>\n<style scoped>\n    .dataframe tbody tr th:only-of-type {\n        vertical-align: middle;\n    }\n\n    .dataframe tbody tr th {\n        vertical-align: top;\n    }\n\n    .dataframe thead th {\n        text-align: right;\n    }\n</style>\n<table border=\"1\" class=\"dataframe\">\n  <thead>\n    <tr style=\"text-align: right;\">\n      <th></th>\n      <th>user_id</th>\n      <th>order_id</th>\n      <th>action</th>\n      <th>time</th>\n    </tr>\n  </thead>\n  <tbody>\n    <tr>\n      <th>0</th>\n      <td>1</td>\n      <td>1</td>\n      <td>create_order</td>\n      <td>2022-08-24 01:52:00</td>\n    </tr>\n    <tr>\n      <th>4912</th>\n      <td>1</td>\n      <td>4683</td>\n      <td>create_order</td>\n      <td>2022-08-27 20:56:00</td>\n    </tr>\n    <tr>\n      <th>24084</th>\n      <td>1</td>\n      <td>22901</td>\n      <td>create_order</td>\n      <td>2022-09-02 00:58:00</td>\n    </tr>\n    <tr>\n      <th>24343</th>\n      <td>1</td>\n      <td>23149</td>\n      <td>create_order</td>\n      <td>2022-09-02 02:36:00</td>\n    </tr>\n    <tr>\n      <th>1</th>\n      <td>2</td>\n      <td>2</td>\n      <td>create_order</td>\n      <td>2022-08-24 06:37:00</td>\n    </tr>\n  </tbody>\n</table>\n</div>"
     },
     "execution_count": 32,
     "metadata": {},
     "output_type": "execute_result"
    }
   ],
   "source": [
    "created_orders.head()"
   ],
   "metadata": {
    "collapsed": false
   }
  },
  {
   "cell_type": "code",
   "execution_count": 33,
   "outputs": [],
   "source": [
    "created_orders['order_numbers'] = created_orders.groupby('user_id').time.rank()"
   ],
   "metadata": {
    "collapsed": false
   }
  },
  {
   "cell_type": "code",
   "execution_count": 34,
   "outputs": [
    {
     "data": {
      "text/plain": "       user_id  order_id        action                time  order_numbers\n0            1         1  create_order 2022-08-24 01:52:00            1.0\n4912         1      4683  create_order 2022-08-27 20:56:00            2.0\n24084        1     22901  create_order 2022-09-02 00:58:00            3.0\n24343        1     23149  create_order 2022-09-02 02:36:00            4.0\n1            2         2  create_order 2022-08-24 06:37:00            1.0\n...        ...       ...           ...                 ...            ...\n62560    21399     59583  create_order 2022-09-08 23:56:00            1.5\n62564    21399     59587  create_order 2022-09-08 23:58:00            3.0\n62563    21400     59586  create_order 2022-09-08 23:57:00            1.0\n62566    21401     59589  create_order 2022-09-08 23:58:00            1.0\n62568    21402     59591  create_order 2022-09-08 23:58:00            1.0\n\n[59595 rows x 5 columns]",
      "text/html": "<div>\n<style scoped>\n    .dataframe tbody tr th:only-of-type {\n        vertical-align: middle;\n    }\n\n    .dataframe tbody tr th {\n        vertical-align: top;\n    }\n\n    .dataframe thead th {\n        text-align: right;\n    }\n</style>\n<table border=\"1\" class=\"dataframe\">\n  <thead>\n    <tr style=\"text-align: right;\">\n      <th></th>\n      <th>user_id</th>\n      <th>order_id</th>\n      <th>action</th>\n      <th>time</th>\n      <th>order_numbers</th>\n    </tr>\n  </thead>\n  <tbody>\n    <tr>\n      <th>0</th>\n      <td>1</td>\n      <td>1</td>\n      <td>create_order</td>\n      <td>2022-08-24 01:52:00</td>\n      <td>1.0</td>\n    </tr>\n    <tr>\n      <th>4912</th>\n      <td>1</td>\n      <td>4683</td>\n      <td>create_order</td>\n      <td>2022-08-27 20:56:00</td>\n      <td>2.0</td>\n    </tr>\n    <tr>\n      <th>24084</th>\n      <td>1</td>\n      <td>22901</td>\n      <td>create_order</td>\n      <td>2022-09-02 00:58:00</td>\n      <td>3.0</td>\n    </tr>\n    <tr>\n      <th>24343</th>\n      <td>1</td>\n      <td>23149</td>\n      <td>create_order</td>\n      <td>2022-09-02 02:36:00</td>\n      <td>4.0</td>\n    </tr>\n    <tr>\n      <th>1</th>\n      <td>2</td>\n      <td>2</td>\n      <td>create_order</td>\n      <td>2022-08-24 06:37:00</td>\n      <td>1.0</td>\n    </tr>\n    <tr>\n      <th>...</th>\n      <td>...</td>\n      <td>...</td>\n      <td>...</td>\n      <td>...</td>\n      <td>...</td>\n    </tr>\n    <tr>\n      <th>62560</th>\n      <td>21399</td>\n      <td>59583</td>\n      <td>create_order</td>\n      <td>2022-09-08 23:56:00</td>\n      <td>1.5</td>\n    </tr>\n    <tr>\n      <th>62564</th>\n      <td>21399</td>\n      <td>59587</td>\n      <td>create_order</td>\n      <td>2022-09-08 23:58:00</td>\n      <td>3.0</td>\n    </tr>\n    <tr>\n      <th>62563</th>\n      <td>21400</td>\n      <td>59586</td>\n      <td>create_order</td>\n      <td>2022-09-08 23:57:00</td>\n      <td>1.0</td>\n    </tr>\n    <tr>\n      <th>62566</th>\n      <td>21401</td>\n      <td>59589</td>\n      <td>create_order</td>\n      <td>2022-09-08 23:58:00</td>\n      <td>1.0</td>\n    </tr>\n    <tr>\n      <th>62568</th>\n      <td>21402</td>\n      <td>59591</td>\n      <td>create_order</td>\n      <td>2022-09-08 23:58:00</td>\n      <td>1.0</td>\n    </tr>\n  </tbody>\n</table>\n<p>59595 rows × 5 columns</p>\n</div>"
     },
     "execution_count": 34,
     "metadata": {},
     "output_type": "execute_result"
    }
   ],
   "source": [],
   "metadata": {
    "collapsed": false
   }
  },
  {
   "cell_type": "code",
   "execution_count": 39,
   "outputs": [],
   "source": [
    "created_orders['min_order_time'] = created_orders.groupby('user_id').time.transform('min')"
   ],
   "metadata": {
    "collapsed": false
   }
  },
  {
   "cell_type": "code",
   "execution_count": 40,
   "outputs": [
    {
     "data": {
      "text/plain": "       user_id  order_id        action                time  order_numbers  \\\n0            1         1  create_order 2022-08-24 01:52:00            1.0   \n4912         1      4683  create_order 2022-08-27 20:56:00            2.0   \n24084        1     22901  create_order 2022-09-02 00:58:00            3.0   \n24343        1     23149  create_order 2022-09-02 02:36:00            4.0   \n1            2         2  create_order 2022-08-24 06:37:00            1.0   \n\n           min_order_time  total_orders  \n0     2022-08-24 01:52:00             4  \n4912  2022-08-24 01:52:00             4  \n24084 2022-08-24 01:52:00             4  \n24343 2022-08-24 01:52:00             4  \n1     2022-08-24 06:37:00             2  ",
      "text/html": "<div>\n<style scoped>\n    .dataframe tbody tr th:only-of-type {\n        vertical-align: middle;\n    }\n\n    .dataframe tbody tr th {\n        vertical-align: top;\n    }\n\n    .dataframe thead th {\n        text-align: right;\n    }\n</style>\n<table border=\"1\" class=\"dataframe\">\n  <thead>\n    <tr style=\"text-align: right;\">\n      <th></th>\n      <th>user_id</th>\n      <th>order_id</th>\n      <th>action</th>\n      <th>time</th>\n      <th>order_numbers</th>\n      <th>min_order_time</th>\n      <th>total_orders</th>\n    </tr>\n  </thead>\n  <tbody>\n    <tr>\n      <th>0</th>\n      <td>1</td>\n      <td>1</td>\n      <td>create_order</td>\n      <td>2022-08-24 01:52:00</td>\n      <td>1.0</td>\n      <td>2022-08-24 01:52:00</td>\n      <td>4</td>\n    </tr>\n    <tr>\n      <th>4912</th>\n      <td>1</td>\n      <td>4683</td>\n      <td>create_order</td>\n      <td>2022-08-27 20:56:00</td>\n      <td>2.0</td>\n      <td>2022-08-24 01:52:00</td>\n      <td>4</td>\n    </tr>\n    <tr>\n      <th>24084</th>\n      <td>1</td>\n      <td>22901</td>\n      <td>create_order</td>\n      <td>2022-09-02 00:58:00</td>\n      <td>3.0</td>\n      <td>2022-08-24 01:52:00</td>\n      <td>4</td>\n    </tr>\n    <tr>\n      <th>24343</th>\n      <td>1</td>\n      <td>23149</td>\n      <td>create_order</td>\n      <td>2022-09-02 02:36:00</td>\n      <td>4.0</td>\n      <td>2022-08-24 01:52:00</td>\n      <td>4</td>\n    </tr>\n    <tr>\n      <th>1</th>\n      <td>2</td>\n      <td>2</td>\n      <td>create_order</td>\n      <td>2022-08-24 06:37:00</td>\n      <td>1.0</td>\n      <td>2022-08-24 06:37:00</td>\n      <td>2</td>\n    </tr>\n  </tbody>\n</table>\n</div>"
     },
     "execution_count": 40,
     "metadata": {},
     "output_type": "execute_result"
    }
   ],
   "source": [
    "created_orders['total_orders'] = created_orders.groupby('user_id').order_id.transform('count')\n",
    "created_orders.head()"
   ],
   "metadata": {
    "collapsed": false
   }
  },
  {
   "cell_type": "code",
   "execution_count": 43,
   "outputs": [],
   "source": [
    "created_orders['date'] = created_orders.time.dt.date"
   ],
   "metadata": {
    "collapsed": false
   }
  },
  {
   "cell_type": "code",
   "execution_count": 44,
   "outputs": [
    {
     "data": {
      "text/plain": "       user_id  order_id        action                time  order_numbers  \\\n0            1         1  create_order 2022-08-24 01:52:00            1.0   \n4912         1      4683  create_order 2022-08-27 20:56:00            2.0   \n24084        1     22901  create_order 2022-09-02 00:58:00            3.0   \n24343        1     23149  create_order 2022-09-02 02:36:00            4.0   \n1            2         2  create_order 2022-08-24 06:37:00            1.0   \n\n           min_order_time  total_orders        date  \n0     2022-08-24 01:52:00             4  2022-08-24  \n4912  2022-08-24 01:52:00             4  2022-08-27  \n24084 2022-08-24 01:52:00             4  2022-09-02  \n24343 2022-08-24 01:52:00             4  2022-09-02  \n1     2022-08-24 06:37:00             2  2022-08-24  ",
      "text/html": "<div>\n<style scoped>\n    .dataframe tbody tr th:only-of-type {\n        vertical-align: middle;\n    }\n\n    .dataframe tbody tr th {\n        vertical-align: top;\n    }\n\n    .dataframe thead th {\n        text-align: right;\n    }\n</style>\n<table border=\"1\" class=\"dataframe\">\n  <thead>\n    <tr style=\"text-align: right;\">\n      <th></th>\n      <th>user_id</th>\n      <th>order_id</th>\n      <th>action</th>\n      <th>time</th>\n      <th>order_numbers</th>\n      <th>min_order_time</th>\n      <th>total_orders</th>\n      <th>date</th>\n    </tr>\n  </thead>\n  <tbody>\n    <tr>\n      <th>0</th>\n      <td>1</td>\n      <td>1</td>\n      <td>create_order</td>\n      <td>2022-08-24 01:52:00</td>\n      <td>1.0</td>\n      <td>2022-08-24 01:52:00</td>\n      <td>4</td>\n      <td>2022-08-24</td>\n    </tr>\n    <tr>\n      <th>4912</th>\n      <td>1</td>\n      <td>4683</td>\n      <td>create_order</td>\n      <td>2022-08-27 20:56:00</td>\n      <td>2.0</td>\n      <td>2022-08-24 01:52:00</td>\n      <td>4</td>\n      <td>2022-08-27</td>\n    </tr>\n    <tr>\n      <th>24084</th>\n      <td>1</td>\n      <td>22901</td>\n      <td>create_order</td>\n      <td>2022-09-02 00:58:00</td>\n      <td>3.0</td>\n      <td>2022-08-24 01:52:00</td>\n      <td>4</td>\n      <td>2022-09-02</td>\n    </tr>\n    <tr>\n      <th>24343</th>\n      <td>1</td>\n      <td>23149</td>\n      <td>create_order</td>\n      <td>2022-09-02 02:36:00</td>\n      <td>4.0</td>\n      <td>2022-08-24 01:52:00</td>\n      <td>4</td>\n      <td>2022-09-02</td>\n    </tr>\n    <tr>\n      <th>1</th>\n      <td>2</td>\n      <td>2</td>\n      <td>create_order</td>\n      <td>2022-08-24 06:37:00</td>\n      <td>1.0</td>\n      <td>2022-08-24 06:37:00</td>\n      <td>2</td>\n      <td>2022-08-24</td>\n    </tr>\n  </tbody>\n</table>\n</div>"
     },
     "execution_count": 44,
     "metadata": {},
     "output_type": "execute_result"
    }
   ],
   "source": [
    "created_orders.head()"
   ],
   "metadata": {
    "collapsed": false
   }
  },
  {
   "cell_type": "code",
   "execution_count": 52,
   "outputs": [],
   "source": [
    "created_orders_by_day = created_orders \\\n",
    "    .groupby(['user_id','date'], as_index=False) \\\n",
    "    .agg({'order_id':'count'})\n",
    "created_orders_by_day['total_orders'] = created_orders_by_day \\\n",
    "    .groupby(['user_id']).order_id.transform('sum')"
   ],
   "metadata": {
    "collapsed": false
   }
  },
  {
   "cell_type": "code",
   "execution_count": 53,
   "outputs": [
    {
     "data": {
      "text/plain": "       user_id        date  order_id  total_orders\n0            1  2022-08-24         1             4\n1            1  2022-08-27         1             4\n2            1  2022-09-02         2             4\n3            2  2022-08-24         1             2\n4            2  2022-08-28         1             2\n...        ...         ...       ...           ...\n41521    21398  2022-09-08         1             1\n41522    21399  2022-09-08         3             3\n41523    21400  2022-09-08         1             1\n41524    21401  2022-09-08         1             1\n41525    21402  2022-09-08         1             1\n\n[41526 rows x 4 columns]",
      "text/html": "<div>\n<style scoped>\n    .dataframe tbody tr th:only-of-type {\n        vertical-align: middle;\n    }\n\n    .dataframe tbody tr th {\n        vertical-align: top;\n    }\n\n    .dataframe thead th {\n        text-align: right;\n    }\n</style>\n<table border=\"1\" class=\"dataframe\">\n  <thead>\n    <tr style=\"text-align: right;\">\n      <th></th>\n      <th>user_id</th>\n      <th>date</th>\n      <th>order_id</th>\n      <th>total_orders</th>\n    </tr>\n  </thead>\n  <tbody>\n    <tr>\n      <th>0</th>\n      <td>1</td>\n      <td>2022-08-24</td>\n      <td>1</td>\n      <td>4</td>\n    </tr>\n    <tr>\n      <th>1</th>\n      <td>1</td>\n      <td>2022-08-27</td>\n      <td>1</td>\n      <td>4</td>\n    </tr>\n    <tr>\n      <th>2</th>\n      <td>1</td>\n      <td>2022-09-02</td>\n      <td>2</td>\n      <td>4</td>\n    </tr>\n    <tr>\n      <th>3</th>\n      <td>2</td>\n      <td>2022-08-24</td>\n      <td>1</td>\n      <td>2</td>\n    </tr>\n    <tr>\n      <th>4</th>\n      <td>2</td>\n      <td>2022-08-28</td>\n      <td>1</td>\n      <td>2</td>\n    </tr>\n    <tr>\n      <th>...</th>\n      <td>...</td>\n      <td>...</td>\n      <td>...</td>\n      <td>...</td>\n    </tr>\n    <tr>\n      <th>41521</th>\n      <td>21398</td>\n      <td>2022-09-08</td>\n      <td>1</td>\n      <td>1</td>\n    </tr>\n    <tr>\n      <th>41522</th>\n      <td>21399</td>\n      <td>2022-09-08</td>\n      <td>3</td>\n      <td>3</td>\n    </tr>\n    <tr>\n      <th>41523</th>\n      <td>21400</td>\n      <td>2022-09-08</td>\n      <td>1</td>\n      <td>1</td>\n    </tr>\n    <tr>\n      <th>41524</th>\n      <td>21401</td>\n      <td>2022-09-08</td>\n      <td>1</td>\n      <td>1</td>\n    </tr>\n    <tr>\n      <th>41525</th>\n      <td>21402</td>\n      <td>2022-09-08</td>\n      <td>1</td>\n      <td>1</td>\n    </tr>\n  </tbody>\n</table>\n<p>41526 rows × 4 columns</p>\n</div>"
     },
     "execution_count": 53,
     "metadata": {},
     "output_type": "execute_result"
    }
   ],
   "source": [
    "created_orders_by_day"
   ],
   "metadata": {
    "collapsed": false
   }
  },
  {
   "cell_type": "code",
   "execution_count": 54,
   "outputs": [
    {
     "data": {
      "text/plain": "   user_id        date  order_id  total_orders  lag\n0        1  2022-08-24         1             4  NaN\n1        1  2022-08-27         1             4  1.0\n2        1  2022-09-02         2             4  1.0\n3        2  2022-08-24         1             2  NaN\n4        2  2022-08-28         1             2  1.0",
      "text/html": "<div>\n<style scoped>\n    .dataframe tbody tr th:only-of-type {\n        vertical-align: middle;\n    }\n\n    .dataframe tbody tr th {\n        vertical-align: top;\n    }\n\n    .dataframe thead th {\n        text-align: right;\n    }\n</style>\n<table border=\"1\" class=\"dataframe\">\n  <thead>\n    <tr style=\"text-align: right;\">\n      <th></th>\n      <th>user_id</th>\n      <th>date</th>\n      <th>order_id</th>\n      <th>total_orders</th>\n      <th>lag</th>\n    </tr>\n  </thead>\n  <tbody>\n    <tr>\n      <th>0</th>\n      <td>1</td>\n      <td>2022-08-24</td>\n      <td>1</td>\n      <td>4</td>\n      <td>NaN</td>\n    </tr>\n    <tr>\n      <th>1</th>\n      <td>1</td>\n      <td>2022-08-27</td>\n      <td>1</td>\n      <td>4</td>\n      <td>1.0</td>\n    </tr>\n    <tr>\n      <th>2</th>\n      <td>1</td>\n      <td>2022-09-02</td>\n      <td>2</td>\n      <td>4</td>\n      <td>1.0</td>\n    </tr>\n    <tr>\n      <th>3</th>\n      <td>2</td>\n      <td>2022-08-24</td>\n      <td>1</td>\n      <td>2</td>\n      <td>NaN</td>\n    </tr>\n    <tr>\n      <th>4</th>\n      <td>2</td>\n      <td>2022-08-28</td>\n      <td>1</td>\n      <td>2</td>\n      <td>1.0</td>\n    </tr>\n  </tbody>\n</table>\n</div>"
     },
     "execution_count": 54,
     "metadata": {},
     "output_type": "execute_result"
    }
   ],
   "source": [
    "created_orders_by_day['lag'] = created_orders_by_day \\\n",
    "    .groupby(['user_id']).order_id.shift(1)\n",
    "created_orders_by_day.head()"
   ],
   "metadata": {
    "collapsed": false
   }
  },
  {
   "cell_type": "code",
   "execution_count": null,
   "outputs": [],
   "source": [],
   "metadata": {
    "collapsed": false
   }
  }
 ],
 "metadata": {
  "kernelspec": {
   "display_name": "Python 3",
   "language": "python",
   "name": "python3"
  },
  "language_info": {
   "codemirror_mode": {
    "name": "ipython",
    "version": 2
   },
   "file_extension": ".py",
   "mimetype": "text/x-python",
   "name": "python",
   "nbconvert_exporter": "python",
   "pygments_lexer": "ipython2",
   "version": "2.7.6"
  }
 },
 "nbformat": 4,
 "nbformat_minor": 0
}
