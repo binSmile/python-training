{
 "cells": [
  {
   "cell_type": "code",
   "execution_count": 2,
   "metadata": {
    "collapsed": true
   },
   "outputs": [],
   "source": [
    "from scipy import stats\n",
    "import itertools\n",
    "import math\n",
    "import pandas as pd\n",
    "import numpy as np\n",
    "from scipy.stats import studentized_range"
   ]
  },
  {
   "cell_type": "code",
   "execution_count": 5,
   "outputs": [],
   "source": [
    "df = pd.read_csv('https://stepik.org/media/attachments/lesson/8086/states.csv')"
   ],
   "metadata": {
    "collapsed": false
   }
  },
  {
   "cell_type": "code",
   "execution_count": 6,
   "outputs": [
    {
     "data": {
      "text/plain": "                    state  metro_res  white  hs_grad  poverty  female_house\n0                 Alabama       55.4   71.3     79.9     14.6          14.2\n1                  Alaska       65.6   70.8     90.6      8.3          10.8\n2                 Arizona       88.2   87.7     83.8     13.3          11.1\n3                Arkansas       52.5   81.0     80.9     18.0          12.1\n4              California       94.4   77.5     81.1     12.8          12.6\n5                Colorado       84.5   90.2     88.7      9.4           9.6\n6             Connecticut       87.7   85.4     87.5      7.8          12.1\n7                Delaware       80.1   76.3     88.7      8.1          13.1\n8   District  of Columbia      100.0   36.2     86.0     16.8          18.9\n9                 Florida       89.3   80.6     84.7     12.1          12.0\n10                Georgia       71.6   67.5     85.1     12.1          14.5\n11                 Hawaii       91.5   25.9     88.5     10.6          12.4\n12                  Idaho       66.4   95.5     88.2     11.8           8.7\n13               Illinois       87.8   79.5     85.9     11.2          12.3\n14                Indiana       70.8   88.9     86.4      8.7          11.1\n15                   Iowa       61.1   94.9     89.7      8.3           8.6\n16                 Kansas       71.4   89.3     88.6      9.4           9.3\n17               Kentucky       55.8   90.3     82.8     13.1          11.8\n18              Louisiana       72.6   64.2     79.8     17.0          16.6\n19                  Maine       40.2   97.1     86.6     11.3           9.5\n20               Maryland       86.1   65.6     87.6      7.3          14.1\n21          Massachusetts       91.4   87.2     87.1      9.6          11.9\n22               Michigan       74.7   81.5     87.6     10.3          12.5\n23              Minnesota       70.9   90.2     91.6      6.5           8.9\n24            Mississippi       48.8   61.2     81.2     17.6          17.3\n25               Missouri       69.4   85.3     88.3      9.6          11.6\n26                Montana       54.1   90.9     90.1     13.7           8.9\n27               Nebraska       69.8   92.1     90.8      9.5           9.1\n28                 Nevada       91.5   84.1     85.6      8.3          11.1\n29         New  Hampshire       59.3   96.3     92.1      5.6           9.1\n30             New Jersey       94.4   77.3     86.2      7.8          12.6\n31             New Mexico       75.0   84.9     81.7     17.8          13.2\n32               New York       87.5   73.6     84.2     14.0          14.7\n33        North  Carolina       60.2   74.1     81.4     13.1          12.5\n34           North Dakota       55.9   92.5     89.7     11.9           7.8\n35                   Ohio       77.4   85.4     87.2     10.1          12.1\n36               Oklahoma       65.3   78.4     85.7     14.7          11.4\n37                 Oregon       78.7   90.8     86.9     11.2           9.8\n38           Pennsylvania       77.1   86.4     86.0      9.2          11.6\n39           Rhode Island       90.9   89.2     81.0     10.3          12.9\n40        South  Carolina       60.5   67.7     80.8     13.5          14.8\n41           South Dakota       51.9   88.8     88.7     10.2           9.0\n42              Tennessee       63.6   80.8     81.0     14.2          12.9\n43                  Texas       82.5   83.6     77.2     15.3          12.7\n44                   Utah       88.2   93.6     89.4      9.3           9.4\n45                Vermont       38.2   96.9     88.9      9.9           9.3\n46               Virginia       73.0   73.9     87.8      8.7          11.9\n47             Washington       82.0   85.5     89.1     10.8           9.9\n48         West  Virginia       46.1   95.0     78.7     16.0          10.7\n49              Wisconsin       68.3   90.1     88.6      8.6           9.6\n50                Wyoming       65.1   94.7     90.9      9.5           8.7",
      "text/html": "<div>\n<style scoped>\n    .dataframe tbody tr th:only-of-type {\n        vertical-align: middle;\n    }\n\n    .dataframe tbody tr th {\n        vertical-align: top;\n    }\n\n    .dataframe thead th {\n        text-align: right;\n    }\n</style>\n<table border=\"1\" class=\"dataframe\">\n  <thead>\n    <tr style=\"text-align: right;\">\n      <th></th>\n      <th>state</th>\n      <th>metro_res</th>\n      <th>white</th>\n      <th>hs_grad</th>\n      <th>poverty</th>\n      <th>female_house</th>\n    </tr>\n  </thead>\n  <tbody>\n    <tr>\n      <th>0</th>\n      <td>Alabama</td>\n      <td>55.4</td>\n      <td>71.3</td>\n      <td>79.9</td>\n      <td>14.6</td>\n      <td>14.2</td>\n    </tr>\n    <tr>\n      <th>1</th>\n      <td>Alaska</td>\n      <td>65.6</td>\n      <td>70.8</td>\n      <td>90.6</td>\n      <td>8.3</td>\n      <td>10.8</td>\n    </tr>\n    <tr>\n      <th>2</th>\n      <td>Arizona</td>\n      <td>88.2</td>\n      <td>87.7</td>\n      <td>83.8</td>\n      <td>13.3</td>\n      <td>11.1</td>\n    </tr>\n    <tr>\n      <th>3</th>\n      <td>Arkansas</td>\n      <td>52.5</td>\n      <td>81.0</td>\n      <td>80.9</td>\n      <td>18.0</td>\n      <td>12.1</td>\n    </tr>\n    <tr>\n      <th>4</th>\n      <td>California</td>\n      <td>94.4</td>\n      <td>77.5</td>\n      <td>81.1</td>\n      <td>12.8</td>\n      <td>12.6</td>\n    </tr>\n    <tr>\n      <th>5</th>\n      <td>Colorado</td>\n      <td>84.5</td>\n      <td>90.2</td>\n      <td>88.7</td>\n      <td>9.4</td>\n      <td>9.6</td>\n    </tr>\n    <tr>\n      <th>6</th>\n      <td>Connecticut</td>\n      <td>87.7</td>\n      <td>85.4</td>\n      <td>87.5</td>\n      <td>7.8</td>\n      <td>12.1</td>\n    </tr>\n    <tr>\n      <th>7</th>\n      <td>Delaware</td>\n      <td>80.1</td>\n      <td>76.3</td>\n      <td>88.7</td>\n      <td>8.1</td>\n      <td>13.1</td>\n    </tr>\n    <tr>\n      <th>8</th>\n      <td>District  of Columbia</td>\n      <td>100.0</td>\n      <td>36.2</td>\n      <td>86.0</td>\n      <td>16.8</td>\n      <td>18.9</td>\n    </tr>\n    <tr>\n      <th>9</th>\n      <td>Florida</td>\n      <td>89.3</td>\n      <td>80.6</td>\n      <td>84.7</td>\n      <td>12.1</td>\n      <td>12.0</td>\n    </tr>\n    <tr>\n      <th>10</th>\n      <td>Georgia</td>\n      <td>71.6</td>\n      <td>67.5</td>\n      <td>85.1</td>\n      <td>12.1</td>\n      <td>14.5</td>\n    </tr>\n    <tr>\n      <th>11</th>\n      <td>Hawaii</td>\n      <td>91.5</td>\n      <td>25.9</td>\n      <td>88.5</td>\n      <td>10.6</td>\n      <td>12.4</td>\n    </tr>\n    <tr>\n      <th>12</th>\n      <td>Idaho</td>\n      <td>66.4</td>\n      <td>95.5</td>\n      <td>88.2</td>\n      <td>11.8</td>\n      <td>8.7</td>\n    </tr>\n    <tr>\n      <th>13</th>\n      <td>Illinois</td>\n      <td>87.8</td>\n      <td>79.5</td>\n      <td>85.9</td>\n      <td>11.2</td>\n      <td>12.3</td>\n    </tr>\n    <tr>\n      <th>14</th>\n      <td>Indiana</td>\n      <td>70.8</td>\n      <td>88.9</td>\n      <td>86.4</td>\n      <td>8.7</td>\n      <td>11.1</td>\n    </tr>\n    <tr>\n      <th>15</th>\n      <td>Iowa</td>\n      <td>61.1</td>\n      <td>94.9</td>\n      <td>89.7</td>\n      <td>8.3</td>\n      <td>8.6</td>\n    </tr>\n    <tr>\n      <th>16</th>\n      <td>Kansas</td>\n      <td>71.4</td>\n      <td>89.3</td>\n      <td>88.6</td>\n      <td>9.4</td>\n      <td>9.3</td>\n    </tr>\n    <tr>\n      <th>17</th>\n      <td>Kentucky</td>\n      <td>55.8</td>\n      <td>90.3</td>\n      <td>82.8</td>\n      <td>13.1</td>\n      <td>11.8</td>\n    </tr>\n    <tr>\n      <th>18</th>\n      <td>Louisiana</td>\n      <td>72.6</td>\n      <td>64.2</td>\n      <td>79.8</td>\n      <td>17.0</td>\n      <td>16.6</td>\n    </tr>\n    <tr>\n      <th>19</th>\n      <td>Maine</td>\n      <td>40.2</td>\n      <td>97.1</td>\n      <td>86.6</td>\n      <td>11.3</td>\n      <td>9.5</td>\n    </tr>\n    <tr>\n      <th>20</th>\n      <td>Maryland</td>\n      <td>86.1</td>\n      <td>65.6</td>\n      <td>87.6</td>\n      <td>7.3</td>\n      <td>14.1</td>\n    </tr>\n    <tr>\n      <th>21</th>\n      <td>Massachusetts</td>\n      <td>91.4</td>\n      <td>87.2</td>\n      <td>87.1</td>\n      <td>9.6</td>\n      <td>11.9</td>\n    </tr>\n    <tr>\n      <th>22</th>\n      <td>Michigan</td>\n      <td>74.7</td>\n      <td>81.5</td>\n      <td>87.6</td>\n      <td>10.3</td>\n      <td>12.5</td>\n    </tr>\n    <tr>\n      <th>23</th>\n      <td>Minnesota</td>\n      <td>70.9</td>\n      <td>90.2</td>\n      <td>91.6</td>\n      <td>6.5</td>\n      <td>8.9</td>\n    </tr>\n    <tr>\n      <th>24</th>\n      <td>Mississippi</td>\n      <td>48.8</td>\n      <td>61.2</td>\n      <td>81.2</td>\n      <td>17.6</td>\n      <td>17.3</td>\n    </tr>\n    <tr>\n      <th>25</th>\n      <td>Missouri</td>\n      <td>69.4</td>\n      <td>85.3</td>\n      <td>88.3</td>\n      <td>9.6</td>\n      <td>11.6</td>\n    </tr>\n    <tr>\n      <th>26</th>\n      <td>Montana</td>\n      <td>54.1</td>\n      <td>90.9</td>\n      <td>90.1</td>\n      <td>13.7</td>\n      <td>8.9</td>\n    </tr>\n    <tr>\n      <th>27</th>\n      <td>Nebraska</td>\n      <td>69.8</td>\n      <td>92.1</td>\n      <td>90.8</td>\n      <td>9.5</td>\n      <td>9.1</td>\n    </tr>\n    <tr>\n      <th>28</th>\n      <td>Nevada</td>\n      <td>91.5</td>\n      <td>84.1</td>\n      <td>85.6</td>\n      <td>8.3</td>\n      <td>11.1</td>\n    </tr>\n    <tr>\n      <th>29</th>\n      <td>New  Hampshire</td>\n      <td>59.3</td>\n      <td>96.3</td>\n      <td>92.1</td>\n      <td>5.6</td>\n      <td>9.1</td>\n    </tr>\n    <tr>\n      <th>30</th>\n      <td>New Jersey</td>\n      <td>94.4</td>\n      <td>77.3</td>\n      <td>86.2</td>\n      <td>7.8</td>\n      <td>12.6</td>\n    </tr>\n    <tr>\n      <th>31</th>\n      <td>New Mexico</td>\n      <td>75.0</td>\n      <td>84.9</td>\n      <td>81.7</td>\n      <td>17.8</td>\n      <td>13.2</td>\n    </tr>\n    <tr>\n      <th>32</th>\n      <td>New York</td>\n      <td>87.5</td>\n      <td>73.6</td>\n      <td>84.2</td>\n      <td>14.0</td>\n      <td>14.7</td>\n    </tr>\n    <tr>\n      <th>33</th>\n      <td>North  Carolina</td>\n      <td>60.2</td>\n      <td>74.1</td>\n      <td>81.4</td>\n      <td>13.1</td>\n      <td>12.5</td>\n    </tr>\n    <tr>\n      <th>34</th>\n      <td>North Dakota</td>\n      <td>55.9</td>\n      <td>92.5</td>\n      <td>89.7</td>\n      <td>11.9</td>\n      <td>7.8</td>\n    </tr>\n    <tr>\n      <th>35</th>\n      <td>Ohio</td>\n      <td>77.4</td>\n      <td>85.4</td>\n      <td>87.2</td>\n      <td>10.1</td>\n      <td>12.1</td>\n    </tr>\n    <tr>\n      <th>36</th>\n      <td>Oklahoma</td>\n      <td>65.3</td>\n      <td>78.4</td>\n      <td>85.7</td>\n      <td>14.7</td>\n      <td>11.4</td>\n    </tr>\n    <tr>\n      <th>37</th>\n      <td>Oregon</td>\n      <td>78.7</td>\n      <td>90.8</td>\n      <td>86.9</td>\n      <td>11.2</td>\n      <td>9.8</td>\n    </tr>\n    <tr>\n      <th>38</th>\n      <td>Pennsylvania</td>\n      <td>77.1</td>\n      <td>86.4</td>\n      <td>86.0</td>\n      <td>9.2</td>\n      <td>11.6</td>\n    </tr>\n    <tr>\n      <th>39</th>\n      <td>Rhode Island</td>\n      <td>90.9</td>\n      <td>89.2</td>\n      <td>81.0</td>\n      <td>10.3</td>\n      <td>12.9</td>\n    </tr>\n    <tr>\n      <th>40</th>\n      <td>South  Carolina</td>\n      <td>60.5</td>\n      <td>67.7</td>\n      <td>80.8</td>\n      <td>13.5</td>\n      <td>14.8</td>\n    </tr>\n    <tr>\n      <th>41</th>\n      <td>South Dakota</td>\n      <td>51.9</td>\n      <td>88.8</td>\n      <td>88.7</td>\n      <td>10.2</td>\n      <td>9.0</td>\n    </tr>\n    <tr>\n      <th>42</th>\n      <td>Tennessee</td>\n      <td>63.6</td>\n      <td>80.8</td>\n      <td>81.0</td>\n      <td>14.2</td>\n      <td>12.9</td>\n    </tr>\n    <tr>\n      <th>43</th>\n      <td>Texas</td>\n      <td>82.5</td>\n      <td>83.6</td>\n      <td>77.2</td>\n      <td>15.3</td>\n      <td>12.7</td>\n    </tr>\n    <tr>\n      <th>44</th>\n      <td>Utah</td>\n      <td>88.2</td>\n      <td>93.6</td>\n      <td>89.4</td>\n      <td>9.3</td>\n      <td>9.4</td>\n    </tr>\n    <tr>\n      <th>45</th>\n      <td>Vermont</td>\n      <td>38.2</td>\n      <td>96.9</td>\n      <td>88.9</td>\n      <td>9.9</td>\n      <td>9.3</td>\n    </tr>\n    <tr>\n      <th>46</th>\n      <td>Virginia</td>\n      <td>73.0</td>\n      <td>73.9</td>\n      <td>87.8</td>\n      <td>8.7</td>\n      <td>11.9</td>\n    </tr>\n    <tr>\n      <th>47</th>\n      <td>Washington</td>\n      <td>82.0</td>\n      <td>85.5</td>\n      <td>89.1</td>\n      <td>10.8</td>\n      <td>9.9</td>\n    </tr>\n    <tr>\n      <th>48</th>\n      <td>West  Virginia</td>\n      <td>46.1</td>\n      <td>95.0</td>\n      <td>78.7</td>\n      <td>16.0</td>\n      <td>10.7</td>\n    </tr>\n    <tr>\n      <th>49</th>\n      <td>Wisconsin</td>\n      <td>68.3</td>\n      <td>90.1</td>\n      <td>88.6</td>\n      <td>8.6</td>\n      <td>9.6</td>\n    </tr>\n    <tr>\n      <th>50</th>\n      <td>Wyoming</td>\n      <td>65.1</td>\n      <td>94.7</td>\n      <td>90.9</td>\n      <td>9.5</td>\n      <td>8.7</td>\n    </tr>\n  </tbody>\n</table>\n</div>"
     },
     "execution_count": 6,
     "metadata": {},
     "output_type": "execute_result"
    }
   ],
   "source": [
    "df"
   ],
   "metadata": {
    "collapsed": false
   }
  },
  {
   "cell_type": "code",
   "execution_count": 12,
   "outputs": [
    {
     "data": {
      "text/plain": "<AxesSubplot:xlabel='hs_grad', ylabel='poverty'>"
     },
     "execution_count": 12,
     "metadata": {},
     "output_type": "execute_result"
    },
    {
     "data": {
      "text/plain": "<Figure size 640x480 with 1 Axes>",
      "image/png": "[encoded data removed]"
     },
     "metadata": {},
     "output_type": "display_data"
    }
   ],
   "source": [
    "df.plot.scatter(x='hs_grad', y='poverty')"
   ],
   "metadata": {
    "collapsed": false
   }
  },
  {
   "cell_type": "code",
   "execution_count": 40,
   "outputs": [
    {
     "data": {
      "text/plain": "0.5577972503105937"
     },
     "execution_count": 40,
     "metadata": {},
     "output_type": "execute_result"
    }
   ],
   "source": [
    "import numpy as np\n",
    "from sklearn.linear_model import LinearRegression\n",
    "# y = 1 * x_0 + 2 * x_1 + 3\n",
    "l = len(df.values)\n",
    "X = df.hs_grad.to_numpy().reshape(l,1)\n",
    "y = df.poverty.to_numpy().reshape(l,1)\n",
    "reg = LinearRegression().fit(X, y)\n",
    "reg.score(X, y)\n",
    "\n",
    "# reg.coef_\n",
    "#\n",
    "# reg.intercept_\n",
    "#\n",
    "# reg.predict(np.array([[3, 5]]))"
   ],
   "metadata": {
    "collapsed": false
   }
  },
  {
   "cell_type": "code",
   "execution_count": 47,
   "outputs": [],
   "source": [
    "reg = LinearRegression().fit(X, y)"
   ],
   "metadata": {
    "collapsed": false
   }
  },
  {
   "cell_type": "code",
   "execution_count": 52,
   "outputs": [
    {
     "data": {
      "text/plain": "array([[23.06894425]])"
     },
     "execution_count": 52,
     "metadata": {},
     "output_type": "execute_result"
    }
   ],
   "source": [
    "reg.t"
   ],
   "metadata": {
    "collapsed": false
   }
  },
  {
   "cell_type": "code",
   "execution_count": 38,
   "outputs": [
    {
     "name": "stdout",
     "output_type": "stream",
     "text": [
      "[[-0.62121672]]\n",
      "[64.78096577]\n"
     ]
    }
   ],
   "source": [
    "print(reg.coef_)\n",
    "\n",
    "print(reg.intercept_)\n",
    "\n"
   ],
   "metadata": {
    "collapsed": false
   }
  },
  {
   "cell_type": "code",
   "execution_count": 46,
   "outputs": [],
   "source": [
    "from sklearn import linear_model\n",
    "from scipy import stats\n",
    "import numpy as np\n",
    "\n",
    "\n",
    "class LinearRegression(linear_model.LinearRegression):\n",
    "    \"\"\"\n",
    "    LinearRegression class after sklearn's, but calculate t-statistics\n",
    "    and p-values for model coefficients (betas).\n",
    "    Additional attributes available after .fit()\n",
    "    are `t` and `p` which are of the shape (y.shape[1], X.shape[1])\n",
    "    which is (n_features, n_coefs)\n",
    "    This class sets the intercept to 0 by default, since usually we include it\n",
    "    in X.\n",
    "    \"\"\"\n",
    "\n",
    "    def __init__(self, *args, **kwargs):\n",
    "        if not \"fit_intercept\" in kwargs:\n",
    "            kwargs['fit_intercept'] = False\n",
    "        super(LinearRegression, self) \\\n",
    "            .__init__(*args, **kwargs)\n",
    "\n",
    "    def fit(self, X, y, n_jobs=1):\n",
    "        self = super(LinearRegression, self).fit(X, y, n_jobs)\n",
    "\n",
    "        sse = np.sum((self.predict(X) - y) ** 2, axis=0) / float(X.shape[0] - X.shape[1])\n",
    "        se = np.array([\n",
    "            np.sqrt(np.diagonal(sse[i] * np.linalg.inv(np.dot(X.T, X))))\n",
    "            for i in range(sse.shape[0])\n",
    "        ])\n",
    "\n",
    "        self.t = self.coef_ / se\n",
    "        self.p = 2 * (1 - stats.t.cdf(np.abs(self.t), y.shape[0] - X.shape[1]))\n",
    "        return self"
   ],
   "metadata": {
    "collapsed": false
   }
  },
  {
   "cell_type": "code",
   "execution_count": 53,
   "outputs": [],
   "source": [
    "import statsmodels.api as sm"
   ],
   "metadata": {
    "collapsed": false
   }
  },
  {
   "cell_type": "code",
   "execution_count": 54,
   "outputs": [],
   "source": [
    "x = sm.add_constant(X)"
   ],
   "metadata": {
    "collapsed": false
   }
  },
  {
   "cell_type": "code",
   "execution_count": 55,
   "outputs": [],
   "source": [
    "model = sm.OLS(y, x).fit()"
   ],
   "metadata": {
    "collapsed": false
   }
  },
  {
   "cell_type": "code",
   "execution_count": 56,
   "outputs": [
    {
     "name": "stdout",
     "output_type": "stream",
     "text": [
      "                            OLS Regression Results                            \n",
      "==============================================================================\n",
      "Dep. Variable:                      y   R-squared:                       0.558\n",
      "Model:                            OLS   Adj. R-squared:                  0.549\n",
      "Method:                 Least Squares   F-statistic:                     61.81\n",
      "Date:                Fri, 17 Feb 2023   Prob (F-statistic):           3.11e-10\n",
      "Time:                        18:56:55   Log-Likelihood:                -108.74\n",
      "No. Observations:                  51   AIC:                             221.5\n",
      "Df Residuals:                      49   BIC:                             225.3\n",
      "Df Model:                           1                                         \n",
      "Covariance Type:            nonrobust                                         \n",
      "==============================================================================\n",
      "                 coef    std err          t      P>|t|      [0.025      0.975]\n",
      "------------------------------------------------------------------------------\n",
      "const         64.7810      6.803      9.523      0.000      51.111      78.451\n",
      "x1            -0.6212      0.079     -7.862      0.000      -0.780      -0.462\n",
      "==============================================================================\n",
      "Omnibus:                        3.534   Durbin-Watson:                   1.977\n",
      "Prob(Omnibus):                  0.171   Jarque-Bera (JB):                2.653\n",
      "Skew:                           0.540   Prob(JB):                        0.265\n",
      "Kurtosis:                       3.289   Cond. No.                     2.01e+03\n",
      "==============================================================================\n",
      "\n",
      "Notes:\n",
      "[1] Standard Errors assume that the covariance matrix of the errors is correctly specified.\n",
      "[2] The condition number is large, 2.01e+03. This might indicate that there are\n",
      "strong multicollinearity or other numerical problems.\n"
     ]
    }
   ],
   "source": [
    "print(model.summary())"
   ],
   "metadata": {
    "collapsed": false
   }
  },
  {
   "cell_type": "code",
   "execution_count": null,
   "outputs": [],
   "source": [],
   "metadata": {
    "collapsed": false
   }
  }
 ],
 "metadata": {
  "kernelspec": {
   "display_name": "Python 3",
   "language": "python",
   "name": "python3"
  },
  "language_info": {
   "codemirror_mode": {
    "name": "ipython",
    "version": 2
   },
   "file_extension": ".py",
   "mimetype": "text/x-python",
   "name": "python",
   "nbconvert_exporter": "python",
   "pygments_lexer": "ipython2",
   "version": "2.7.6"
  }
 },
 "nbformat": 4,
 "nbformat_minor": 0
}
