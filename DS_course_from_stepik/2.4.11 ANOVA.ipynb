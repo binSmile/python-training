{
 "cells": [
  {
   "cell_type": "code",
   "execution_count": 14,
   "metadata": {
    "collapsed": true
   },
   "outputs": [],
   "source": [
    "import pandas as pd\n",
    "import scipy.stats as stats"
   ]
  },
  {
   "cell_type": "code",
   "execution_count": 3,
   "outputs": [],
   "source": [
    "df = pd.read_csv('https://stepik.org/media/attachments/lesson/8083/genetherapy.csv')"
   ],
   "metadata": {
    "collapsed": false
   }
  },
  {
   "cell_type": "code",
   "execution_count": 4,
   "outputs": [
    {
     "data": {
      "text/plain": "    expr Therapy\n0    100       A\n1     96       A\n2    101       A\n3     95       A\n4    103       A\n5     99       A\n6     97       A\n7     96       A\n8     98       A\n9    106       A\n10   106       A\n11   104       A\n12    95       A\n13    95       A\n14   105       A\n15   100       B\n16   100       B\n17    95       B\n18    84       B\n19   101       B\n20   101       B\n21    95       B\n22   106       B\n23   105       B\n24    97       B\n25   103       B\n26    94       B\n27    94       B\n28   100       B\n29   107       B\n30    91       C\n31    96       C\n32    94       C\n33    96       C\n34    91       C\n35    85       C\n36    98       C\n37    93       C\n38   100       C\n39    85       C\n40   101       C\n41   101       C\n42    90       C\n43    98       C\n44    97       C\n45    92       D\n46    85       D\n47    95       D\n48    89       D\n49    91       D\n50    91       D\n51    99       D\n52    94       D\n53    97       D\n54    94       D\n55    87       D\n56    93       D\n57    96       D\n58    92       D\n59    90       D",
      "text/html": "<div>\n<style scoped>\n    .dataframe tbody tr th:only-of-type {\n        vertical-align: middle;\n    }\n\n    .dataframe tbody tr th {\n        vertical-align: top;\n    }\n\n    .dataframe thead th {\n        text-align: right;\n    }\n</style>\n<table border=\"1\" class=\"dataframe\">\n  <thead>\n    <tr style=\"text-align: right;\">\n      <th></th>\n      <th>expr</th>\n      <th>Therapy</th>\n    </tr>\n  </thead>\n  <tbody>\n    <tr>\n      <th>0</th>\n      <td>100</td>\n      <td>A</td>\n    </tr>\n    <tr>\n      <th>1</th>\n      <td>96</td>\n      <td>A</td>\n    </tr>\n    <tr>\n      <th>2</th>\n      <td>101</td>\n      <td>A</td>\n    </tr>\n    <tr>\n      <th>3</th>\n      <td>95</td>\n      <td>A</td>\n    </tr>\n    <tr>\n      <th>4</th>\n      <td>103</td>\n      <td>A</td>\n    </tr>\n    <tr>\n      <th>5</th>\n      <td>99</td>\n      <td>A</td>\n    </tr>\n    <tr>\n      <th>6</th>\n      <td>97</td>\n      <td>A</td>\n    </tr>\n    <tr>\n      <th>7</th>\n      <td>96</td>\n      <td>A</td>\n    </tr>\n    <tr>\n      <th>8</th>\n      <td>98</td>\n      <td>A</td>\n    </tr>\n    <tr>\n      <th>9</th>\n      <td>106</td>\n      <td>A</td>\n    </tr>\n    <tr>\n      <th>10</th>\n      <td>106</td>\n      <td>A</td>\n    </tr>\n    <tr>\n      <th>11</th>\n      <td>104</td>\n      <td>A</td>\n    </tr>\n    <tr>\n      <th>12</th>\n      <td>95</td>\n      <td>A</td>\n    </tr>\n    <tr>\n      <th>13</th>\n      <td>95</td>\n      <td>A</td>\n    </tr>\n    <tr>\n      <th>14</th>\n      <td>105</td>\n      <td>A</td>\n    </tr>\n    <tr>\n      <th>15</th>\n      <td>100</td>\n      <td>B</td>\n    </tr>\n    <tr>\n      <th>16</th>\n      <td>100</td>\n      <td>B</td>\n    </tr>\n    <tr>\n      <th>17</th>\n      <td>95</td>\n      <td>B</td>\n    </tr>\n    <tr>\n      <th>18</th>\n      <td>84</td>\n      <td>B</td>\n    </tr>\n    <tr>\n      <th>19</th>\n      <td>101</td>\n      <td>B</td>\n    </tr>\n    <tr>\n      <th>20</th>\n      <td>101</td>\n      <td>B</td>\n    </tr>\n    <tr>\n      <th>21</th>\n      <td>95</td>\n      <td>B</td>\n    </tr>\n    <tr>\n      <th>22</th>\n      <td>106</td>\n      <td>B</td>\n    </tr>\n    <tr>\n      <th>23</th>\n      <td>105</td>\n      <td>B</td>\n    </tr>\n    <tr>\n      <th>24</th>\n      <td>97</td>\n      <td>B</td>\n    </tr>\n    <tr>\n      <th>25</th>\n      <td>103</td>\n      <td>B</td>\n    </tr>\n    <tr>\n      <th>26</th>\n      <td>94</td>\n      <td>B</td>\n    </tr>\n    <tr>\n      <th>27</th>\n      <td>94</td>\n      <td>B</td>\n    </tr>\n    <tr>\n      <th>28</th>\n      <td>100</td>\n      <td>B</td>\n    </tr>\n    <tr>\n      <th>29</th>\n      <td>107</td>\n      <td>B</td>\n    </tr>\n    <tr>\n      <th>30</th>\n      <td>91</td>\n      <td>C</td>\n    </tr>\n    <tr>\n      <th>31</th>\n      <td>96</td>\n      <td>C</td>\n    </tr>\n    <tr>\n      <th>32</th>\n      <td>94</td>\n      <td>C</td>\n    </tr>\n    <tr>\n      <th>33</th>\n      <td>96</td>\n      <td>C</td>\n    </tr>\n    <tr>\n      <th>34</th>\n      <td>91</td>\n      <td>C</td>\n    </tr>\n    <tr>\n      <th>35</th>\n      <td>85</td>\n      <td>C</td>\n    </tr>\n    <tr>\n      <th>36</th>\n      <td>98</td>\n      <td>C</td>\n    </tr>\n    <tr>\n      <th>37</th>\n      <td>93</td>\n      <td>C</td>\n    </tr>\n    <tr>\n      <th>38</th>\n      <td>100</td>\n      <td>C</td>\n    </tr>\n    <tr>\n      <th>39</th>\n      <td>85</td>\n      <td>C</td>\n    </tr>\n    <tr>\n      <th>40</th>\n      <td>101</td>\n      <td>C</td>\n    </tr>\n    <tr>\n      <th>41</th>\n      <td>101</td>\n      <td>C</td>\n    </tr>\n    <tr>\n      <th>42</th>\n      <td>90</td>\n      <td>C</td>\n    </tr>\n    <tr>\n      <th>43</th>\n      <td>98</td>\n      <td>C</td>\n    </tr>\n    <tr>\n      <th>44</th>\n      <td>97</td>\n      <td>C</td>\n    </tr>\n    <tr>\n      <th>45</th>\n      <td>92</td>\n      <td>D</td>\n    </tr>\n    <tr>\n      <th>46</th>\n      <td>85</td>\n      <td>D</td>\n    </tr>\n    <tr>\n      <th>47</th>\n      <td>95</td>\n      <td>D</td>\n    </tr>\n    <tr>\n      <th>48</th>\n      <td>89</td>\n      <td>D</td>\n    </tr>\n    <tr>\n      <th>49</th>\n      <td>91</td>\n      <td>D</td>\n    </tr>\n    <tr>\n      <th>50</th>\n      <td>91</td>\n      <td>D</td>\n    </tr>\n    <tr>\n      <th>51</th>\n      <td>99</td>\n      <td>D</td>\n    </tr>\n    <tr>\n      <th>52</th>\n      <td>94</td>\n      <td>D</td>\n    </tr>\n    <tr>\n      <th>53</th>\n      <td>97</td>\n      <td>D</td>\n    </tr>\n    <tr>\n      <th>54</th>\n      <td>94</td>\n      <td>D</td>\n    </tr>\n    <tr>\n      <th>55</th>\n      <td>87</td>\n      <td>D</td>\n    </tr>\n    <tr>\n      <th>56</th>\n      <td>93</td>\n      <td>D</td>\n    </tr>\n    <tr>\n      <th>57</th>\n      <td>96</td>\n      <td>D</td>\n    </tr>\n    <tr>\n      <th>58</th>\n      <td>92</td>\n      <td>D</td>\n    </tr>\n    <tr>\n      <th>59</th>\n      <td>90</td>\n      <td>D</td>\n    </tr>\n  </tbody>\n</table>\n</div>"
     },
     "execution_count": 4,
     "metadata": {},
     "output_type": "execute_result"
    }
   ],
   "source": [
    "df"
   ],
   "metadata": {
    "collapsed": false
   }
  },
  {
   "cell_type": "code",
   "execution_count": 9,
   "outputs": [],
   "source": [
    "genitem = []\n",
    "for i in 'ABCD':\n",
    "    genitem += [df[df[\"Therapy\"] == i][\"expr\"]]"
   ],
   "metadata": {
    "collapsed": false
   }
  },
  {
   "cell_type": "code",
   "execution_count": 18,
   "outputs": [
    {
     "data": {
      "text/plain": "F_onewayResult(statistic=8.03730248114399, pvalue=0.00015249722895229536)"
     },
     "execution_count": 18,
     "metadata": {},
     "output_type": "execute_result"
    }
   ],
   "source": [
    "stats.f_oneway(*genitem)"
   ],
   "metadata": {
    "collapsed": false
   }
  },
  {
   "cell_type": "code",
   "execution_count": 19,
   "outputs": [],
   "source": [
    "from scipy.stats import t\n",
    "import matplotlib.pyplot as plt"
   ],
   "metadata": {
    "collapsed": false
   }
  },
  {
   "cell_type": "code",
   "execution_count": 21,
   "outputs": [],
   "source": [
    "p = 0.95\n",
    "data_agg = df.groupby(['Therapy']).agg(['count','mean','std'])"
   ],
   "metadata": {
    "collapsed": false
   }
  },
  {
   "cell_type": "code",
   "execution_count": 30,
   "outputs": [],
   "source": [
    "data_agg = data_agg.droplevel(0, axis=1)"
   ],
   "metadata": {
    "collapsed": false
   }
  },
  {
   "cell_type": "code",
   "execution_count": 31,
   "outputs": [],
   "source": [
    "data_agg.rename(columns = {'count': 'N', 'mean': 'Mean', 'std': 'Std'}, inplace=True)"
   ],
   "metadata": {
    "collapsed": false
   }
  },
  {
   "cell_type": "code",
   "execution_count": 32,
   "outputs": [],
   "source": [
    "data_agg['se'] = data_agg.Std.div(data_agg.N ** 0.5)"
   ],
   "metadata": {
    "collapsed": false
   }
  },
  {
   "cell_type": "code",
   "execution_count": 34,
   "outputs": [],
   "source": [
    "data_agg['K'] = data_agg.apply(\\\n",
    "    lambda x: t.interval(p, x.N-1, loc=x.Mean, scale=x.se)[1],axis=1) - data_agg.Mean"
   ],
   "metadata": {
    "collapsed": false
   }
  },
  {
   "cell_type": "code",
   "execution_count": 35,
   "outputs": [
    {
     "data": {
      "text/plain": "Therapy\nA    2.306843\nB    3.264159\nC    2.876010\nD    2.068534\nName: K, dtype: float64"
     },
     "execution_count": 35,
     "metadata": {},
     "output_type": "execute_result"
    }
   ],
   "source": [
    "data_agg."
   ],
   "metadata": {
    "collapsed": false
   }
  },
  {
   "cell_type": "code",
   "execution_count": 36,
   "outputs": [
    {
     "name": "stderr",
     "output_type": "stream",
     "text": [
      "C:\\Users\\al\\AppData\\Local\\Temp\\ipykernel_15732\\3465085384.py:1: UserWarning: marker is redundantly defined by the 'marker' keyword argument and the fmt string \"o\" (-> marker='o'). The keyword argument will take precedence.\n",
      "  plt.errorbar(x='Therapy ' + data_agg.index, y=data_agg.Mean, yerr=data_agg.K,\n"
     ]
    },
    {
     "data": {
      "text/plain": "<Figure size 640x480 with 1 Axes>",
      "image/png": "[encoded data removed]"
     },
     "metadata": {},
     "output_type": "display_data"
    }
   ],
   "source": [
    "plt.errorbar(x='Therapy ' + data_agg.index, y=data_agg.Mean, yerr=data_agg.K,\n",
    "             color=\"black\", capsize=3, marker=\"s\", markersize=4, mfc=\"red\", mec=\"black\", fmt ='o')\n",
    "plt.title('Уровень экспрессии гена при различной терапии')\n",
    "plt.grid()\n",
    "plt.xlabel('therapy')\n",
    "plt.ylabel('Уровень экспрессии')\n",
    "plt.show()"
   ],
   "metadata": {
    "collapsed": false
   }
  },
  {
   "cell_type": "code",
   "execution_count": 37,
   "outputs": [
    {
     "data": {
      "text/plain": "              q  meandiff     p-adj      lower     upper\nA - B  0.749595 -0.933333   0.95142  -5.595897  3.729231\nA - C  4.283398 -5.333333  0.018886  -9.995897 -0.670769\nA - D  5.943214      -7.4  0.000542 -12.062564 -2.737436\nB - C  3.533803      -4.4  0.071041  -9.062564  0.262564\nB - D   5.19362 -6.466667  0.002944 -11.129231 -1.804103\nC - D  1.659817 -2.066667  0.645794  -6.729231  2.595897",
      "text/html": "<div>\n<style scoped>\n    .dataframe tbody tr th:only-of-type {\n        vertical-align: middle;\n    }\n\n    .dataframe tbody tr th {\n        vertical-align: top;\n    }\n\n    .dataframe thead th {\n        text-align: right;\n    }\n</style>\n<table border=\"1\" class=\"dataframe\">\n  <thead>\n    <tr style=\"text-align: right;\">\n      <th></th>\n      <th>q</th>\n      <th>meandiff</th>\n      <th>p-adj</th>\n      <th>lower</th>\n      <th>upper</th>\n    </tr>\n  </thead>\n  <tbody>\n    <tr>\n      <th>A - B</th>\n      <td>0.749595</td>\n      <td>-0.933333</td>\n      <td>0.95142</td>\n      <td>-5.595897</td>\n      <td>3.729231</td>\n    </tr>\n    <tr>\n      <th>A - C</th>\n      <td>4.283398</td>\n      <td>-5.333333</td>\n      <td>0.018886</td>\n      <td>-9.995897</td>\n      <td>-0.670769</td>\n    </tr>\n    <tr>\n      <th>A - D</th>\n      <td>5.943214</td>\n      <td>-7.4</td>\n      <td>0.000542</td>\n      <td>-12.062564</td>\n      <td>-2.737436</td>\n    </tr>\n    <tr>\n      <th>B - C</th>\n      <td>3.533803</td>\n      <td>-4.4</td>\n      <td>0.071041</td>\n      <td>-9.062564</td>\n      <td>0.262564</td>\n    </tr>\n    <tr>\n      <th>B - D</th>\n      <td>5.19362</td>\n      <td>-6.466667</td>\n      <td>0.002944</td>\n      <td>-11.129231</td>\n      <td>-1.804103</td>\n    </tr>\n    <tr>\n      <th>C - D</th>\n      <td>1.659817</td>\n      <td>-2.066667</td>\n      <td>0.645794</td>\n      <td>-6.729231</td>\n      <td>2.595897</td>\n    </tr>\n  </tbody>\n</table>\n</div>"
     },
     "execution_count": 37,
     "metadata": {},
     "output_type": "execute_result"
    }
   ],
   "source": [
    "from scipy import stats\n",
    "import itertools\n",
    "import math\n",
    "import pandas as pd\n",
    "import numpy as np\n",
    "from scipy.stats import studentized_range\n",
    "\n",
    "URL = 'https://stepik.org/media/attachments/lesson/8083/genetherapy.csv'\n",
    "data = pd.read_csv(URL)\n",
    "\n",
    "def ssdev( xs ):\n",
    "    mu = xs.mean()\n",
    "    square_deviation = lambda x : (x - mu) ** 2\n",
    "    return sum( map(square_deviation, xs) )\n",
    "\n",
    "\n",
    "SSW = sum(data.groupby('Therapy').apply(lambda g: ssdev(np.array(g))))\n",
    "# Out: 1302.2666666666669\n",
    "\n",
    "dfSSW = len(data.expr) - len(data.Therapy.unique()) # Out: 56\n",
    "MSw = SSW/dfSSW # Out: 186.90555556\n",
    "SE = math.sqrt(MSw/15) #Out: 1.2451174509525864\n",
    "\n",
    "combinations = list(itertools.combinations(data.Therapy.unique(), 2))\n",
    "#Out: [('A', 'B'), ('A', 'C'), ('A', 'D'), ('B', 'C'), ('B', 'D'), ('C', 'D')]\n",
    "\n",
    "n_group = len(data.Therapy.unique()) #Out: 4\n",
    "dfSSW = len(data.expr) - len(data.Therapy.unique()) #Out:56\n",
    "\n",
    "\n",
    "alpha = 0.05\n",
    "q_crit = studentized_range.ppf(1-alpha, n_group, dfSSW) # Out: 3.7446781868177195\n",
    "\n",
    "df = pd.DataFrame(columns=[f'{first} - {second}' for first, second in combinations],\n",
    "                  index=['q','meandiff','p-adj','lower','upper'])\n",
    "\n",
    "means = data.groupby('Therapy').mean().T\n",
    "\n",
    "for first, second in combinations:\n",
    "    key = f'{first} - {second}'\n",
    "    first_second_mean = [means[first].expr, means[second].expr]\n",
    "    _q = (max(first_second_mean) - min(first_second_mean))/SE\n",
    "    _meandiff = (means[second].expr - means[first].expr)\n",
    "    df[key]['q'] = _q\n",
    "    df[key]['meandiff'] = _meandiff\n",
    "    df[key]['p-adj'] = 1-studentized_range.cdf(_q, n_group, dfSSW)\n",
    "    df[key]['upper'] = _meandiff+ q_crit*SE\n",
    "    df[key]['lower'] = _meandiff- q_crit*SE\n",
    "\n",
    "df.T"
   ],
   "metadata": {
    "collapsed": false
   }
  },
  {
   "cell_type": "code",
   "execution_count": 41,
   "outputs": [],
   "source": [],
   "metadata": {
    "collapsed": false
   }
  },
  {
   "cell_type": "code",
   "execution_count": 47,
   "outputs": [],
   "source": [
    "df = pd.read_clipboard(sep=' ')"
   ],
   "metadata": {
    "collapsed": false
   }
  },
  {
   "cell_type": "code",
   "execution_count": 48,
   "outputs": [
    {
     "data": {
      "text/plain": "   X  Y\n0  4  2\n1  5  1\n2  2  4\n3  3  3\n4  1  5",
      "text/html": "<div>\n<style scoped>\n    .dataframe tbody tr th:only-of-type {\n        vertical-align: middle;\n    }\n\n    .dataframe tbody tr th {\n        vertical-align: top;\n    }\n\n    .dataframe thead th {\n        text-align: right;\n    }\n</style>\n<table border=\"1\" class=\"dataframe\">\n  <thead>\n    <tr style=\"text-align: right;\">\n      <th></th>\n      <th>X</th>\n      <th>Y</th>\n    </tr>\n  </thead>\n  <tbody>\n    <tr>\n      <th>0</th>\n      <td>4</td>\n      <td>2</td>\n    </tr>\n    <tr>\n      <th>1</th>\n      <td>5</td>\n      <td>1</td>\n    </tr>\n    <tr>\n      <th>2</th>\n      <td>2</td>\n      <td>4</td>\n    </tr>\n    <tr>\n      <th>3</th>\n      <td>3</td>\n      <td>3</td>\n    </tr>\n    <tr>\n      <th>4</th>\n      <td>1</td>\n      <td>5</td>\n    </tr>\n  </tbody>\n</table>\n</div>"
     },
     "execution_count": 48,
     "metadata": {},
     "output_type": "execute_result"
    }
   ],
   "source": [
    "df"
   ],
   "metadata": {
    "collapsed": false
   }
  },
  {
   "cell_type": "code",
   "execution_count": 49,
   "outputs": [
    {
     "data": {
      "text/plain": "<AxesSubplot:xlabel='X', ylabel='Y'>"
     },
     "execution_count": 49,
     "metadata": {},
     "output_type": "execute_result"
    },
    {
     "data": {
      "text/plain": "<Figure size 640x480 with 1 Axes>",
      "image/png": "[encoded data removed]"
     },
     "metadata": {},
     "output_type": "display_data"
    }
   ],
   "source": [
    "df.plot.scatter(x='X',y='Y')"
   ],
   "metadata": {
    "collapsed": false
   }
  },
  {
   "cell_type": "code",
   "execution_count": null,
   "outputs": [],
   "source": [],
   "metadata": {
    "collapsed": false
   }
  }
 ],
 "metadata": {
  "kernelspec": {
   "display_name": "Python 3",
   "language": "python",
   "name": "python3"
  },
  "language_info": {
   "codemirror_mode": {
    "name": "ipython",
    "version": 2
   },
   "file_extension": ".py",
   "mimetype": "text/x-python",
   "name": "python",
   "nbconvert_exporter": "python",
   "pygments_lexer": "ipython2",
   "version": "2.7.6"
  }
 },
 "nbformat": 4,
 "nbformat_minor": 0
}
