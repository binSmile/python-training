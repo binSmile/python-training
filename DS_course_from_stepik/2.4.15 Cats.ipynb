{
 "cells": [
  {
   "cell_type": "code",
   "execution_count": null,
   "metadata": {
    "collapsed": true
   },
   "outputs": [],
   "source": [
    "from numpy.distutils.system_info import dfftw_info\n",
    "from sklearn import tree\n",
    "import pandas as pd\n",
    "import matplotlib.pyplot as plt\n",
    "import seaborn as sns\n",
    "%matplotlib inline\n",
    "import numpy as np\n",
    "from sklearn.model_selection import cross_val_score\n",
    "from sklearn.model_selection import train_test_split\n",
    "from sklearn import metrics as skm\n",
    "\n",
    "import os\n",
    "\n",
    "os.environ[\"PATH\"] += os.pathsep + 'C:\\\\Program Files\\\\Graphviz\\\\bin\\\\'\n",
    "from IPython.display import SVG\n",
    "from graphviz import Source\n",
    "from IPython.display import display\n",
    "from IPython.display import HTML\n",
    "\n",
    "style = \"<style>svg{width:100% !important;height:100% !important;}</style>\"\n",
    "HTML(style)"
   ]
  },
  {
   "cell_type": "code",
   "execution_count": null,
   "outputs": [],
   "source": [
    "df_train = pd.read_csv('https://stepik.org/media/attachments/course/4852/dogs_n_cats.csv')"
   ],
   "metadata": {
    "collapsed": false
   }
  },
  {
   "cell_type": "code",
   "execution_count": null,
   "outputs": [],
   "source": [
    "df_train.isnull().sum()\n"
   ],
   "metadata": {
    "collapsed": false
   }
  },
  {
   "cell_type": "code",
   "execution_count": null,
   "outputs": [],
   "source": [
    "X = df_train.drop(['Вид'], axis=1)\n",
    "y = df_train.Вид\n",
    "X_train, X_test, y_train, y_test = train_test_split(X, y, test_size=0.33, random_state=42)"
   ],
   "metadata": {
    "collapsed": false
   }
  },
  {
   "cell_type": "code",
   "execution_count": null,
   "outputs": [],
   "source": [
    "scores_data = pd.DataFrame()\n",
    "max_depth_range = range(1, 100)\n",
    "for max_depth in max_depth_range:\n",
    "    clf = tree.DecisionTreeClassifier(criterion='entropy', max_depth=max_depth)\n",
    "    clf.fit(X_train, y_train)\n",
    "    train_score = clf.score(X_train, y_train)\n",
    "    test_score = clf.score(X_test, y_test)\n",
    "    # test_accuracy_score = accuracy_score(dfiris_test.drop(['species'],axis=1),\n",
    "    #                                      dfiris_test.species)\n",
    "\n",
    "    mean_cross_val_score = cross_val_score(clf, X_test, y_test, cv=5).mean()\n",
    "\n",
    "    # skm_accurancy = skm.accuracy_score(clf.predict(X_test), y_test)\n",
    "\n",
    "    temp_score_date = pd.DataFrame({\n",
    "        'max_depth': [max_depth],\n",
    "        'train_score': [train_score],\n",
    "        'test_score': [test_score],\n",
    "        # 'skm_accurancy': [skm_accurancy],\n",
    "        'cross_val_score': mean_cross_val_score,\n",
    "        # 'test_accuracy_score': test_accuracy_score\n",
    "    })\n",
    "    #scores_data = scores_data.append(temp_score_date)\n",
    "    scores_data = pd.concat([scores_data, temp_score_date])\n",
    "\n",
    "\n",
    "scores_data_long = pd.melt(scores_data,\n",
    "                           id_vars=['max_depth'],\n",
    "                           value_vars=['train_score', 'test_score',\n",
    "                                       # 'skm_accurancy',\n",
    "                                       'cross_val_score'\n",
    "                                       ],\n",
    "                           var_name='set_type',\n",
    "                           value_name='score')"
   ],
   "metadata": {
    "collapsed": false
   }
  },
  {
   "cell_type": "code",
   "execution_count": null,
   "outputs": [],
   "source": [
    "sns.lineplot(x='max_depth',\n",
    "             y='score',\n",
    "             hue='set_type',\n",
    "             data=scores_data_long)\n",
    "plt.xlim(0,10)"
   ],
   "metadata": {
    "collapsed": false
   }
  },
  {
   "cell_type": "code",
   "execution_count": null,
   "outputs": [],
   "source": [
    "df_train = pd.read_csv('https://stepik.org/media/attachments/course/4852/dogs_n_cats.csv')"
   ],
   "metadata": {
    "collapsed": false
   }
  },
  {
   "cell_type": "code",
   "execution_count": null,
   "outputs": [],
   "source": [
    "df_train.columns"
   ],
   "metadata": {
    "collapsed": false
   }
  },
  {
   "cell_type": "code",
   "execution_count": null,
   "outputs": [],
   "source": [
    "X = df_train[['Шерстист', 'Гавкает', 'Лазает по деревьям']]\n",
    "y = df_train.Вид"
   ],
   "metadata": {
    "collapsed": false
   }
  },
  {
   "cell_type": "code",
   "execution_count": null,
   "outputs": [],
   "source": [
    "clf_single = tree.DecisionTreeClassifier(criterion='entropy')\n",
    "clf_single.fit(X, y)\n",
    "train_score = clf_single.score(X, y)\n",
    "print(train_score)"
   ],
   "metadata": {
    "collapsed": false
   }
  },
  {
   "cell_type": "code",
   "execution_count": null,
   "outputs": [],
   "source": [
    "graph = Source(tree.export_graphviz(clf_single, out_file=None,\n",
    "                                    feature_names=list(X),\n",
    "                                    class_names=['Negative', 'Positive'],\n",
    "                                    filled=True))\n",
    "display(SVG(graph.pipe(format='svg')))"
   ],
   "metadata": {
    "collapsed": false
   }
  },
  {
   "cell_type": "code",
   "execution_count": null,
   "outputs": [],
   "source": [
    "df_test = pd.read_json('dataset_209691_15.txt')\n",
    "df_test\n",
    "\n"
   ],
   "metadata": {
    "collapsed": false
   }
  },
  {
   "cell_type": "code",
   "execution_count": null,
   "outputs": [],
   "source": [
    "res = clf_single.predict(X)\n",
    "resdf = pd.DataFrame(res)"
   ],
   "metadata": {
    "collapsed": false
   }
  },
  {
   "cell_type": "code",
   "execution_count": null,
   "outputs": [],
   "source": [
    "resdf[resdf[0] == 'собачка'].count()"
   ],
   "metadata": {
    "collapsed": false
   }
  },
  {
   "cell_type": "code",
   "execution_count": null,
   "outputs": [],
   "source": [
    "resdf.groupby(0,as_index=False).size()"
   ],
   "metadata": {
    "collapsed": false
   }
  },
  {
   "cell_type": "code",
   "execution_count": null,
   "outputs": [],
   "source": [
    "resdf.value_counts()"
   ],
   "metadata": {
    "collapsed": false
   }
  },
  {
   "cell_type": "code",
   "execution_count": null,
   "outputs": [],
   "source": [
    "df = pd.read_csv('https://stepik.org/media/attachments/course/4852/dogs_n_cats.csv')\n",
    "dt = tree.DecisionTreeClassifier()\n",
    "dt.fit(df.drop(['Вид'], 1), df['Вид'])\n",
    "df2 = pd.read_json('dataset_209691_15.txt')\n",
    "pred = dt.predict(df2)\n",
    "(pred == 'собачка').sum()"
   ],
   "metadata": {
    "collapsed": false
   }
  },
  {
   "cell_type": "code",
   "execution_count": null,
   "outputs": [],
   "source": [
    "print(train_score)\n",
    "graph = Source(tree.export_graphviz(dt, out_file=None,\n",
    "                                    feature_names=list(df.drop(['Вид'], 1)),\n",
    "                                    class_names=['Negative', 'Positive'],\n",
    "                                    filled=True))\n",
    "display(SVG(graph.pipe(format='svg')))"
   ],
   "metadata": {
    "collapsed": false
   }
  },
  {
   "cell_type": "code",
   "execution_count": null,
   "outputs": [],
   "source": [],
   "metadata": {
    "collapsed": false
   }
  }
 ],
 "metadata": {
  "kernelspec": {
   "display_name": "Python 3",
   "language": "python",
   "name": "python3"
  },
  "language_info": {
   "codemirror_mode": {
    "name": "ipython",
    "version": 2
   },
   "file_extension": ".py",
   "mimetype": "text/x-python",
   "name": "python",
   "nbconvert_exporter": "python",
   "pygments_lexer": "ipython2",
   "version": "2.7.6"
  }
 },
 "nbformat": 4,
 "nbformat_minor": 0
}
