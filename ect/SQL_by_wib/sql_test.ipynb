{
 "cells": [
  {
   "cell_type": "markdown",
   "source": [
    "# Test case for WhoIsBlogger (WIB)\n",
    "source: https://hh.ru/vacancy/82346986"
   ],
   "metadata": {
    "collapsed": false
   }
  },
  {
   "cell_type": "code",
   "execution_count": 2,
   "outputs": [],
   "source": [
    "import pandas as pd\n",
    "import numpy as np\n",
    "from sqlalchemy import create_engine\n",
    "import json\n",
    "\n",
    "from datetime import datetime, timedelta\n",
    "import random\n"
   ],
   "metadata": {
    "collapsed": false,
    "ExecuteTime": {
     "end_time": "2023-07-04T10:35:02.939856900Z",
     "start_time": "2023-07-04T10:35:02.913363200Z"
    }
   }
  },
  {
   "cell_type": "markdown",
   "source": [
    "## Step 1: initialize parametrs"
   ],
   "metadata": {
    "collapsed": false
   }
  },
  {
   "cell_type": "code",
   "execution_count": 3,
   "outputs": [],
   "source": [
    "# Demo data generation params\n",
    "Clients_qty = 100\n",
    "mu, sigma = 30, 20 # Age normal distribution\n",
    "Items_qty = 100\n",
    "Orders_qty = 250"
   ],
   "metadata": {
    "collapsed": false,
    "ExecuteTime": {
     "end_time": "2023-07-04T10:35:05.398060400Z",
     "start_time": "2023-07-04T10:35:05.372017400Z"
    }
   }
  },
  {
   "cell_type": "code",
   "execution_count": 4,
   "outputs": [],
   "source": [
    "# SQL connection (I used Yandex.Cloud PostgreSQL server. You should to correct connection for your case)\n",
    "# read credits for db connection\n",
    "with open('credentials\\\\credentials.json', 'r') as file:\n",
    "    credentials = json.load(file)\n",
    "\n",
    "# get params\n",
    "HOST = credentials['HOST']\n",
    "dbuser = credentials['dbuser']\n",
    "dbname = credentials['dbname']\n",
    "passwd = credentials['passwd']\n",
    "dbport = credentials['dbport']\n",
    "ca_cert_path = credentials['ca_cert_path']\n",
    "\n"
   ],
   "metadata": {
    "collapsed": false,
    "ExecuteTime": {
     "end_time": "2023-07-04T10:35:06.097366Z",
     "start_time": "2023-07-04T10:35:06.072314200Z"
    }
   }
  },
  {
   "cell_type": "markdown",
   "source": [
    "## Step 2: generate of demo-data"
   ],
   "metadata": {
    "collapsed": false
   }
  },
  {
   "cell_type": "code",
   "execution_count": 5,
   "outputs": [],
   "source": [
    "AgeArray = np.random.normal(mu, sigma, Clients_qty).round(0)\n",
    "AgeArray = np.where(AgeArray < 18,mu,AgeArray)\n",
    "\n",
    "user_df = pd.DataFrame({\n",
    "    'Age':AgeArray,\n",
    "    'Active':np.random.randint(0,2,Clients_qty)\n",
    "    }) \\\n",
    "    .reset_index() \\\n",
    "    .rename(columns={'index':'userId'})\n",
    "\n",
    "\n",
    "items_df = pd.DataFrame({\n",
    "    'price': np.random.randint(100,10000,Items_qty),\n",
    "    'Active':np.random.randint(0,2,Clients_qty)\n",
    "    }) \\\n",
    "    .reset_index() \\\n",
    "    .rename(columns={'index':'itemId'})\n"
   ],
   "metadata": {
    "collapsed": false,
    "ExecuteTime": {
     "end_time": "2023-07-04T10:35:09.850630600Z",
     "start_time": "2023-07-04T10:35:09.823136300Z"
    }
   }
  },
  {
   "cell_type": "code",
   "execution_count": 6,
   "outputs": [],
   "source": [
    "# Create sample set of demo-orders\n",
    "purchases_df = user_df.merge(items_df, on='Active') \\\n",
    "    .sample(Orders_qty) \\\n",
    "    .drop('Active',axis=1) \\\n",
    "    .reset_index() \\\n",
    "    .rename(columns={'index':'purchaseId'})\n",
    "\n",
    "\n",
    "\n",
    "# Set interval of dates\n",
    "end_date = datetime.now()\n",
    "start_date = end_date - timedelta(days=2*365)\n",
    "# Создание списка случайных дат\n",
    "dates = []\n",
    "for _ in range(Orders_qty):\n",
    "    random_date = start_date + timedelta(seconds=random.randint(0, int((end_date - start_date).total_seconds())))\n",
    "    dates.append(random_date)\n",
    "\n",
    "# add column \"date\" to df with purchaches\n",
    "purchases_df['date'] = dates"
   ],
   "metadata": {
    "collapsed": false,
    "ExecuteTime": {
     "end_time": "2023-07-04T10:35:11.084284700Z",
     "start_time": "2023-07-04T10:35:11.050179300Z"
    }
   }
  },
  {
   "cell_type": "markdown",
   "source": [
    "## Step 3: Connection to db and upload data"
   ],
   "metadata": {
    "collapsed": false
   }
  },
  {
   "cell_type": "code",
   "execution_count": 7,
   "outputs": [
    {
     "name": "stdout",
     "output_type": "stream",
     "text": [
      "('PostgreSQL 15.2 (Ubuntu 15.2-201-yandex.54409.3746b2454e) on x86_64-pc-linux-gnu, compiled by gcc (Ubuntu 7.5.0-3ubuntu1~18.04) 7.5.0, 64-bit',)\n"
     ]
    }
   ],
   "source": [
    "import psycopg2\n",
    "connection = psycopg2.connect(host=HOST, port=dbport, database=dbname, user=dbuser, password=passwd, sslmode='require', sslrootcert=ca_cert_path)\n",
    "q = connection.cursor()\n",
    "q.execute('SELECT version()')\n",
    "print(q.fetchone())\n",
    "\n",
    "# connection.close()"
   ],
   "metadata": {
    "collapsed": false,
    "ExecuteTime": {
     "end_time": "2023-07-04T10:35:13.994099300Z",
     "start_time": "2023-07-04T10:35:13.551607400Z"
    }
   }
  },
  {
   "cell_type": "code",
   "execution_count": 8,
   "outputs": [],
   "source": [
    "# Create Object Engine in SQLAlchemy\n",
    "engine = create_engine('postgresql+psycopg2://', creator=lambda: connection)"
   ],
   "metadata": {
    "collapsed": false,
    "ExecuteTime": {
     "end_time": "2023-07-04T10:35:16.568415Z",
     "start_time": "2023-07-04T10:35:16.457890300Z"
    }
   }
  },
  {
   "cell_type": "markdown",
   "source": [
    "## Step 4: Creation and fill tables"
   ],
   "metadata": {
    "collapsed": false
   }
  },
  {
   "cell_type": "code",
   "execution_count": 9,
   "outputs": [
    {
     "data": {
      "text/plain": "250"
     },
     "execution_count": 9,
     "metadata": {},
     "output_type": "execute_result"
    }
   ],
   "source": [
    "# Создание таблицы со структурой из DataFrame\n",
    "user_df \\\n",
    "    .drop(\"Active\",axis=1) \\\n",
    "    .to_sql('Users', con=engine, if_exists='replace', index=False)\n",
    "items_df \\\n",
    "    .drop(\"Active\",axis=1) \\\n",
    "    .to_sql('Items', con=engine, if_exists='replace', index=False)\n",
    "\n",
    "purchases_df \\\n",
    "    .to_sql('Purchases', con=engine, if_exists='replace', index=False)"
   ],
   "metadata": {
    "collapsed": false,
    "ExecuteTime": {
     "end_time": "2023-07-04T10:35:33.450389100Z",
     "start_time": "2023-07-04T10:35:30.332558Z"
    }
   }
  },
  {
   "cell_type": "markdown",
   "source": [
    "# Tasks\n",
    "## Task A\n",
    "А) какую сумму в среднем в месяц тратит:\n",
    "- пользователи в возрастном диапазоне от 18 до 25 лет включительно\n",
    "- пользователи в возрастном диапазоне от 26 до 35 лет включительно"
   ],
   "metadata": {
    "collapsed": false
   }
  },
  {
   "cell_type": "code",
   "execution_count": 10,
   "outputs": [
    {
     "data": {
      "text/plain": "  avg_price   group_name\n0   5195.85  26-35 group\n1   5095.45  18-25 group",
      "text/html": "<div>\n<style scoped>\n    .dataframe tbody tr th:only-of-type {\n        vertical-align: middle;\n    }\n\n    .dataframe tbody tr th {\n        vertical-align: top;\n    }\n\n    .dataframe thead th {\n        text-align: right;\n    }\n</style>\n<table border=\"1\" class=\"dataframe\">\n  <thead>\n    <tr style=\"text-align: right;\">\n      <th></th>\n      <th>avg_price</th>\n      <th>group_name</th>\n    </tr>\n  </thead>\n  <tbody>\n    <tr>\n      <th>0</th>\n      <td>5195.85</td>\n      <td>26-35 group</td>\n    </tr>\n    <tr>\n      <th>1</th>\n      <td>5095.45</td>\n      <td>18-25 group</td>\n    </tr>\n  </tbody>\n</table>\n</div>"
     },
     "execution_count": 10,
     "metadata": {},
     "output_type": "execute_result"
    }
   ],
   "source": [
    "q.execute('''\n",
    "WITH source_table AS (\n",
    "  SELECT \"Items\".\"price\",\n",
    "    CASE\n",
    "        WHEN \"Users\".\"Age\" BETWEEN 18 AND 25 THEN '18-25 group'\n",
    "        WHEN \"Users\".\"Age\" BETWEEN 26 AND 35 THEN '26-35 group'\n",
    "    END AS Group_Name\n",
    "  FROM \"Purchases\"\n",
    "  LEFT JOIN \"Users\" USING(\"userId\")\n",
    "  LEFT JOIN \"Items\" USING(\"itemId\")\n",
    ")\n",
    "\n",
    "SELECT\n",
    "    ROUND(AVG(\"price\"), 2) AS Avg_price,\n",
    "    Group_Name\n",
    "FROM source_table\n",
    "WHERE Group_Name IS NOT NULL\n",
    "GROUP BY Group_Name\n",
    "''')\n",
    "\n",
    "column_names = [desc[0] for desc in q.description]\n",
    "pd.DataFrame(q.fetchall(), columns=column_names)\n",
    "\n"
   ],
   "metadata": {
    "collapsed": false,
    "ExecuteTime": {
     "end_time": "2023-07-04T10:35:35.563153600Z",
     "start_time": "2023-07-04T10:35:35.350056Z"
    }
   }
  },
  {
   "cell_type": "markdown",
   "source": [
    "## Task B\n",
    "Б) в каком месяце года выручка от пользователей в возрастном диапазоне 35+ самая большая\n",
    "- формулировку  \"возрастной диапазон 35+\" интерпритирую как >= 35 лет (аналогично распространенной формулировке 18+)"
   ],
   "metadata": {
    "collapsed": false
   }
  },
  {
   "cell_type": "markdown",
   "source": [
    "### Case 1\n",
    "- акцентирую на том, что \"в каком месяце года\", то есть мы сравниваем выручку по месяцам усредненную по годам.\n",
    "Другими словами, мы находим тот месяц, который, в среднем, собирает большую выручку"
   ],
   "metadata": {
    "collapsed": false
   }
  },
  {
   "cell_type": "code",
   "execution_count": 11,
   "outputs": [
    {
     "data": {
      "text/plain": "   month   revenue\n0  April  35081.50",
      "text/html": "<div>\n<style scoped>\n    .dataframe tbody tr th:only-of-type {\n        vertical-align: middle;\n    }\n\n    .dataframe tbody tr th {\n        vertical-align: top;\n    }\n\n    .dataframe thead th {\n        text-align: right;\n    }\n</style>\n<table border=\"1\" class=\"dataframe\">\n  <thead>\n    <tr style=\"text-align: right;\">\n      <th></th>\n      <th>month</th>\n      <th>revenue</th>\n    </tr>\n  </thead>\n  <tbody>\n    <tr>\n      <th>0</th>\n      <td>April</td>\n      <td>35081.50</td>\n    </tr>\n  </tbody>\n</table>\n</div>"
     },
     "execution_count": 11,
     "metadata": {},
     "output_type": "execute_result"
    }
   ],
   "source": [
    "q.execute('''\n",
    "WITH source_table AS (SELECT \"Items\".\"price\"\n",
    "                           , date_trunc('month', date) as month_with_year\n",
    "                           , \"Users\".\"Age\"\n",
    "                      FROM \"Purchases\"\n",
    "                               LEFT JOIN \"Users\" USING (\"userId\")\n",
    "                               LEFT JOIN \"Items\" USING (\"itemId\")\n",
    "                      WHERE \"Users\".\"Age\" >= 35)\n",
    "\n",
    "\n",
    "   , stat_by_month_by_year AS (SELECT SUM(\"price\")                            AS revenue\n",
    "                                    , month_with_year\n",
    "                                    , trim(to_char(month_with_year, 'Month')) AS month\n",
    "                               FROM source_table\n",
    "                               -- WHERE \"Age\" >= 35\n",
    "                               GROUP BY month_with_year)\n",
    "\n",
    "select month\n",
    "     , round(AVG(revenue), 2) as revenue\n",
    "from stat_by_month_by_year\n",
    "GROUP BY month\n",
    "ORDER BY AVG(revenue) desc\n",
    "limit 1\n",
    "''')\n",
    "\n",
    "# Output print\n",
    "column_names = [desc[0] for desc in q.description]\n",
    "pd.DataFrame(q.fetchall(), columns=column_names)"
   ],
   "metadata": {
    "collapsed": false,
    "ExecuteTime": {
     "end_time": "2023-07-04T10:35:36.782671100Z",
     "start_time": "2023-07-04T10:35:36.683447300Z"
    }
   }
  },
  {
   "cell_type": "markdown",
   "source": [
    "### Case 2\n",
    "Нахожу за всё время конкретный месяц, за который была получена наибольшая выручка"
   ],
   "metadata": {
    "collapsed": false
   }
  },
  {
   "cell_type": "code",
   "execution_count": 12,
   "outputs": [
    {
     "data": {
      "text/plain": "   month date_month  revenue_by_month\n0  April 2023-04-01             40980",
      "text/html": "<div>\n<style scoped>\n    .dataframe tbody tr th:only-of-type {\n        vertical-align: middle;\n    }\n\n    .dataframe tbody tr th {\n        vertical-align: top;\n    }\n\n    .dataframe thead th {\n        text-align: right;\n    }\n</style>\n<table border=\"1\" class=\"dataframe\">\n  <thead>\n    <tr style=\"text-align: right;\">\n      <th></th>\n      <th>month</th>\n      <th>date_month</th>\n      <th>revenue_by_month</th>\n    </tr>\n  </thead>\n  <tbody>\n    <tr>\n      <th>0</th>\n      <td>April</td>\n      <td>2023-04-01</td>\n      <td>40980</td>\n    </tr>\n  </tbody>\n</table>\n</div>"
     },
     "execution_count": 12,
     "metadata": {},
     "output_type": "execute_result"
    }
   ],
   "source": [
    "q.execute('''\n",
    "SELECT trim(to_char(date, 'Month'))                                        as month\n",
    "     , date_trunc('month', date)                                           as date_month\n",
    "     , sum(t_older_35.price) OVER (PARTITION BY date_trunc('month', date)) as revenue_by_month\n",
    "FROM (SELECT date, price\n",
    "      FROM \"Purchases\"\n",
    "               LEFT JOIN \"Users\" USING (\"userId\")\n",
    "      WHERE \"Users\".\"Age\" >= 35) t_older_35\n",
    "\n",
    "ORDER BY revenue_by_month DESC\n",
    "LIMIT 1\n",
    "''')\n",
    "\n",
    "# Output print\n",
    "column_names = [desc[0] for desc in q.description]\n",
    "pd.DataFrame(q.fetchall(), columns=column_names)"
   ],
   "metadata": {
    "collapsed": false,
    "ExecuteTime": {
     "end_time": "2023-07-04T10:35:37.946024600Z",
     "start_time": "2023-07-04T10:35:37.864381500Z"
    }
   }
  },
  {
   "cell_type": "code",
   "execution_count": 13,
   "outputs": [],
   "source": [
    "connection.rollback()"
   ],
   "metadata": {
    "collapsed": false,
    "ExecuteTime": {
     "end_time": "2023-07-04T10:35:38.351574Z",
     "start_time": "2023-07-04T10:35:38.273317900Z"
    }
   }
  },
  {
   "cell_type": "markdown",
   "source": [
    "## Task C\n",
    "В) какой товар обеспечивает дает наибольший вклад в выручку за последний год\n",
    "- \"за последний год\" интерпритирую как за последние 365 дней (альтернативно можно за период с 1 января, такой способ использован в следующем задание)"
   ],
   "metadata": {
    "collapsed": false
   }
  },
  {
   "cell_type": "code",
   "execution_count": 14,
   "outputs": [
    {
     "data": {
      "text/plain": "   itemId  revenue\n0      71    27702",
      "text/html": "<div>\n<style scoped>\n    .dataframe tbody tr th:only-of-type {\n        vertical-align: middle;\n    }\n\n    .dataframe tbody tr th {\n        vertical-align: top;\n    }\n\n    .dataframe thead th {\n        text-align: right;\n    }\n</style>\n<table border=\"1\" class=\"dataframe\">\n  <thead>\n    <tr style=\"text-align: right;\">\n      <th></th>\n      <th>itemId</th>\n      <th>revenue</th>\n    </tr>\n  </thead>\n  <tbody>\n    <tr>\n      <th>0</th>\n      <td>71</td>\n      <td>27702</td>\n    </tr>\n  </tbody>\n</table>\n</div>"
     },
     "execution_count": 14,
     "metadata": {},
     "output_type": "execute_result"
    }
   ],
   "source": [
    "q.execute('''\n",
    "SELECT \"itemId\"\n",
    "     , sum(\"Items\".\"price\") as revenue\n",
    "FROM \"Purchases\"\n",
    "         LEFT JOIN \"Items\" USING (\"itemId\")\n",
    "WHERE date >= current_date - interval '365 days'\n",
    "GROUP BY \"itemId\"\n",
    "order by 2 desc\n",
    "limit 1\n",
    "''')\n",
    "\n",
    "# Output print\n",
    "column_names = [desc[0] for desc in q.description]\n",
    "pd.DataFrame(q.fetchall(), columns=column_names)"
   ],
   "metadata": {
    "collapsed": false,
    "ExecuteTime": {
     "end_time": "2023-07-04T10:35:39.349020600Z",
     "start_time": "2023-07-04T10:35:39.255033600Z"
    }
   }
  },
  {
   "cell_type": "markdown",
   "source": [
    "## Task D\n",
    "Г) топ-3 товаров по выручке и их доля в общей выручке за любой год\n",
    "- \"любой год\" интерпретирую, как год, на моё усмотрение. Буду рассчитать за идущий год\n"
   ],
   "metadata": {
    "collapsed": false
   }
  },
  {
   "cell_type": "code",
   "execution_count": 15,
   "outputs": [
    {
     "data": {
      "text/plain": "   itemId  revenue revenue_share\n0       2    18726          5.60\n1      71    18468          5.53\n2      24    18152          5.43",
      "text/html": "<div>\n<style scoped>\n    .dataframe tbody tr th:only-of-type {\n        vertical-align: middle;\n    }\n\n    .dataframe tbody tr th {\n        vertical-align: top;\n    }\n\n    .dataframe thead th {\n        text-align: right;\n    }\n</style>\n<table border=\"1\" class=\"dataframe\">\n  <thead>\n    <tr style=\"text-align: right;\">\n      <th></th>\n      <th>itemId</th>\n      <th>revenue</th>\n      <th>revenue_share</th>\n    </tr>\n  </thead>\n  <tbody>\n    <tr>\n      <th>0</th>\n      <td>2</td>\n      <td>18726</td>\n      <td>5.60</td>\n    </tr>\n    <tr>\n      <th>1</th>\n      <td>71</td>\n      <td>18468</td>\n      <td>5.53</td>\n    </tr>\n    <tr>\n      <th>2</th>\n      <td>24</td>\n      <td>18152</td>\n      <td>5.43</td>\n    </tr>\n  </tbody>\n</table>\n</div>"
     },
     "execution_count": 15,
     "metadata": {},
     "output_type": "execute_result"
    }
   ],
   "source": [
    "q.execute('''\n",
    "with revenue_by_item AS (SELECT \"itemId\"\n",
    "                              , sum(\"Items\".\"price\") as revenue\n",
    "                         FROM \"Purchases\"\n",
    "                                  LEFT JOIN \"Items\" USING (\"itemId\")\n",
    "                         WHERE date >= date_trunc('year', current_date)\n",
    "                         GROUP BY \"itemId\")\n",
    "\n",
    "\n",
    "select \"itemId\"\n",
    "     , revenue\n",
    "     , round(revenue * 100.0 / (select sum(revenue) from revenue_by_item), 2) as revenue_share\n",
    "FROM revenue_by_item\n",
    "ORDER BY 2 desc\n",
    "LIMIT 3\n",
    "''')\n",
    "\n",
    "# Output print\n",
    "column_names = [desc[0] for desc in q.description]\n",
    "pd.DataFrame(q.fetchall(), columns=column_names)"
   ],
   "metadata": {
    "collapsed": false,
    "ExecuteTime": {
     "end_time": "2023-07-04T10:35:40.414022800Z",
     "start_time": "2023-07-04T10:35:40.240023300Z"
    }
   }
  },
  {
   "cell_type": "code",
   "execution_count": null,
   "outputs": [],
   "source": [],
   "metadata": {
    "collapsed": false
   }
  }
 ],
 "metadata": {
  "kernelspec": {
   "display_name": "Python 3",
   "language": "python",
   "name": "python3"
  },
  "language_info": {
   "codemirror_mode": {
    "name": "ipython",
    "version": 2
   },
   "file_extension": ".py",
   "mimetype": "text/x-python",
   "name": "python",
   "nbconvert_exporter": "python",
   "pygments_lexer": "ipython2",
   "version": "2.7.6"
  }
 },
 "nbformat": 4,
 "nbformat_minor": 0
}
