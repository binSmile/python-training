{
 "cells": [
  {
   "cell_type": "markdown",
   "source": [
    "# Test case for WhoIsBlogger (WIB)"
   ],
   "metadata": {
    "collapsed": false
   }
  },
  {
   "cell_type": "code",
   "execution_count": 1,
   "outputs": [],
   "source": [
    "import pandas as pd\n",
    "import numpy as np\n",
    "from sqlalchemy import create_engine\n",
    "import json\n",
    "\n",
    "from datetime import datetime, timedelta\n",
    "import random\n",
    "import psycopg2"
   ],
   "metadata": {
    "collapsed": false
   }
  },
  {
   "cell_type": "markdown",
   "source": [
    "## Step 1: initialize parametrs"
   ],
   "metadata": {
    "collapsed": false
   }
  },
  {
   "cell_type": "code",
   "execution_count": 2,
   "outputs": [],
   "source": [
    "# Demo data generation params\n",
    "# set the quantity of lines in each table\n",
    "Clients_qty = 100\n",
    "mu, sigma = 30, 20 # Age normal distribution\n",
    "Items_qty = 100\n",
    "Orders_qty = 250"
   ],
   "metadata": {
    "collapsed": false
   }
  },
  {
   "cell_type": "code",
   "execution_count": 3,
   "outputs": [],
   "source": [
    "# SQL connection (I used Yandex.Cloud PostgreSQL server. You should to correct connection for your case)\n",
    "# Note bene: I used cert by Yandex for connection. Don't forget to download it, if you need. (https://storage.yandexcloud.net/cloud-certs/CA.pem)\n",
    "# or remove \"ca_cert_path\" and \"sslmode\" keys.\n",
    "# read credits for db connection\n",
    "with open('credentials\\\\credentials.json', 'r') as file:\n",
    "    connection_params = json.load(file)"
   ],
   "metadata": {
    "collapsed": false
   }
  },
  {
   "cell_type": "markdown",
   "source": [
    "## Step 2: generate of demo-data"
   ],
   "metadata": {
    "collapsed": false
   }
  },
  {
   "cell_type": "code",
   "execution_count": 4,
   "outputs": [],
   "source": [
    "AgeArray = np.random.normal(mu, sigma, Clients_qty).round(0)\n",
    "AgeArray = np.where(AgeArray < 18,mu,AgeArray)\n",
    "\n",
    "user_df = pd.DataFrame({\n",
    "    'Age':AgeArray,\n",
    "    'Active':np.random.randint(0,2,Clients_qty)\n",
    "    }) \\\n",
    "    .reset_index() \\\n",
    "    .rename(columns={'index':'userId'})\n",
    "\n",
    "\n",
    "items_df = pd.DataFrame({\n",
    "    'price': np.random.randint(100,10000,Items_qty),\n",
    "    'Active':np.random.randint(0,2,Clients_qty)\n",
    "    }) \\\n",
    "    .reset_index() \\\n",
    "    .rename(columns={'index':'itemId'})\n"
   ],
   "metadata": {
    "collapsed": false
   }
  },
  {
   "cell_type": "code",
   "execution_count": 5,
   "outputs": [],
   "source": [
    "# Create sample set of demo-orders\n",
    "purchases_df = user_df.merge(items_df, on='Active') \\\n",
    "    .sample(Orders_qty) \\\n",
    "    .drop('Active',axis=1) \\\n",
    "    .reset_index() \\\n",
    "    .rename(columns={'index':'purchaseId'})\n",
    "\n",
    "\n",
    "\n",
    "# Set interval of dates\n",
    "end_date = datetime.now()\n",
    "start_date = end_date - timedelta(days=2*365)\n",
    "# Создание списка случайных дат\n",
    "dates = []\n",
    "for _ in range(Orders_qty):\n",
    "    random_date = start_date + timedelta(seconds=random.randint(0, int((end_date - start_date).total_seconds())))\n",
    "    dates.append(random_date)\n",
    "\n",
    "# add column \"date\" to df with purchases\n",
    "purchases_df['date'] = dates"
   ],
   "metadata": {
    "collapsed": false
   }
  },
  {
   "cell_type": "markdown",
   "source": [
    "## Step 3: Connection to db and upload data"
   ],
   "metadata": {
    "collapsed": false
   }
  },
  {
   "cell_type": "code",
   "execution_count": 6,
   "outputs": [
    {
     "name": "stdout",
     "output_type": "stream",
     "text": [
      "('PostgreSQL 15.2 (Ubuntu 15.2-201-yandex.54409.3746b2454e) on x86_64-pc-linux-gnu, compiled by gcc (Ubuntu 7.5.0-3ubuntu1~18.04) 7.5.0, 64-bit',)\n"
     ]
    }
   ],
   "source": [
    "connection = psycopg2.connect(**connection_params)\n",
    "\n",
    "q = connection.cursor()\n",
    "q.execute('SELECT version()')\n",
    "print(q.fetchone())"
   ],
   "metadata": {
    "collapsed": false
   }
  },
  {
   "cell_type": "code",
   "execution_count": 7,
   "outputs": [],
   "source": [
    "# Create Object Engine in SQLAlchemy\n",
    "engine = create_engine('postgresql+psycopg2://', creator=lambda: connection)"
   ],
   "metadata": {
    "collapsed": false
   }
  },
  {
   "cell_type": "markdown",
   "source": [
    "## Step 4: Creation and fill tables"
   ],
   "metadata": {
    "collapsed": false
   }
  },
  {
   "cell_type": "code",
   "execution_count": 8,
   "outputs": [
    {
     "data": {
      "text/plain": "250"
     },
     "execution_count": 8,
     "metadata": {},
     "output_type": "execute_result"
    }
   ],
   "source": [
    "# Export DataFrames to DB\n",
    "user_df \\\n",
    "    .drop(\"Active\",axis=1) \\\n",
    "    .to_sql('Users', con=engine, if_exists='replace', index=False)\n",
    "items_df \\\n",
    "    .drop(\"Active\",axis=1) \\\n",
    "    .to_sql('Items', con=engine, if_exists='replace', index=False)\n",
    "\n",
    "purchases_df \\\n",
    "    .to_sql('Purchases', con=engine, if_exists='replace', index=False)"
   ],
   "metadata": {
    "collapsed": false
   }
  },
  {
   "cell_type": "markdown",
   "source": [
    "# Tasks\n",
    "## Task A\n",
    "А) какую сумму в среднем в месяц тратит:\n",
    "- пользователи в возрастном диапазоне от 18 до 25 лет включительно\n",
    "- пользователи в возрастном диапазоне от 26 до 35 лет включительно"
   ],
   "metadata": {
    "collapsed": false
   }
  },
  {
   "cell_type": "code",
   "execution_count": 9,
   "outputs": [
    {
     "data": {
      "text/plain": "  avg_price   group_name\n0   5344.52  26-35 group\n1   5411.91  18-25 group",
      "text/html": "<div>\n<style scoped>\n    .dataframe tbody tr th:only-of-type {\n        vertical-align: middle;\n    }\n\n    .dataframe tbody tr th {\n        vertical-align: top;\n    }\n\n    .dataframe thead th {\n        text-align: right;\n    }\n</style>\n<table border=\"1\" class=\"dataframe\">\n  <thead>\n    <tr style=\"text-align: right;\">\n      <th></th>\n      <th>avg_price</th>\n      <th>group_name</th>\n    </tr>\n  </thead>\n  <tbody>\n    <tr>\n      <th>0</th>\n      <td>5344.52</td>\n      <td>26-35 group</td>\n    </tr>\n    <tr>\n      <th>1</th>\n      <td>5411.91</td>\n      <td>18-25 group</td>\n    </tr>\n  </tbody>\n</table>\n</div>"
     },
     "execution_count": 9,
     "metadata": {},
     "output_type": "execute_result"
    }
   ],
   "source": [
    "q.execute('''\n",
    "WITH source_table AS (\n",
    "  SELECT \"Items\".\"price\",\n",
    "    CASE\n",
    "        WHEN \"Users\".\"Age\" BETWEEN 18 AND 25 THEN '18-25 group'\n",
    "        WHEN \"Users\".\"Age\" BETWEEN 26 AND 35 THEN '26-35 group'\n",
    "    END AS Group_Name\n",
    "  FROM \"Purchases\"\n",
    "  LEFT JOIN \"Users\" USING(\"userId\")\n",
    "  LEFT JOIN \"Items\" USING(\"itemId\")\n",
    ")\n",
    "\n",
    "SELECT\n",
    "    ROUND(AVG(\"price\"), 2) AS Avg_price,\n",
    "    Group_Name\n",
    "FROM source_table\n",
    "WHERE Group_Name IS NOT NULL\n",
    "GROUP BY Group_Name\n",
    "''')\n",
    "\n",
    "column_names = [desc[0] for desc in q.description]\n",
    "pd.DataFrame(q.fetchall(), columns=column_names)\n",
    "\n"
   ],
   "metadata": {
    "collapsed": false
   }
  },
  {
   "cell_type": "markdown",
   "source": [
    "## Task B\n",
    "Б) в каком месяце года выручка от пользователей в возрастном диапазоне 35+ самая большая\n",
    "- формулировку \"возрастной диапазон 35+\" интерпретирую как >= 35 лет (аналогично распространенной формулировке 18+)"
   ],
   "metadata": {
    "collapsed": false
   }
  },
  {
   "cell_type": "markdown",
   "source": [
    "### Case 1\n",
    "- акцентирую на то что \"в каком месяце года\" интерпретирую как сравнение всех январей в учётном периоде, всех декабрей и так далее... то есть сравниваем выручку по месяцам усредненную по годам. (Альтернативный подход в Case 2)\n",
    "Другими словами, мы находим тот месяц, который, в среднем, собирает большую выручку"
   ],
   "metadata": {
    "collapsed": false
   }
  },
  {
   "cell_type": "code",
   "execution_count": 10,
   "outputs": [
    {
     "data": {
      "text/plain": "   month   revenue\n0  April  38346.50",
      "text/html": "<div>\n<style scoped>\n    .dataframe tbody tr th:only-of-type {\n        vertical-align: middle;\n    }\n\n    .dataframe tbody tr th {\n        vertical-align: top;\n    }\n\n    .dataframe thead th {\n        text-align: right;\n    }\n</style>\n<table border=\"1\" class=\"dataframe\">\n  <thead>\n    <tr style=\"text-align: right;\">\n      <th></th>\n      <th>month</th>\n      <th>revenue</th>\n    </tr>\n  </thead>\n  <tbody>\n    <tr>\n      <th>0</th>\n      <td>April</td>\n      <td>38346.50</td>\n    </tr>\n  </tbody>\n</table>\n</div>"
     },
     "execution_count": 10,
     "metadata": {},
     "output_type": "execute_result"
    }
   ],
   "source": [
    "q.execute('''\n",
    "WITH source_table AS (SELECT \"Items\".\"price\"\n",
    "                           , date_trunc('month', date) as month_with_year\n",
    "                           , \"Users\".\"Age\"\n",
    "                      FROM \"Purchases\"\n",
    "                               LEFT JOIN \"Users\" USING (\"userId\")\n",
    "                               LEFT JOIN \"Items\" USING (\"itemId\")\n",
    "                      WHERE \"Users\".\"Age\" >= 35)\n",
    "\n",
    "\n",
    "   , stat_by_month_by_year AS (SELECT SUM(\"price\")                            AS revenue\n",
    "                                    , month_with_year\n",
    "                                    , trim(to_char(month_with_year, 'Month')) AS month\n",
    "                               FROM source_table\n",
    "                               -- WHERE \"Age\" >= 35\n",
    "                               GROUP BY month_with_year)\n",
    "\n",
    "select month\n",
    "     , round(AVG(revenue), 2) as revenue\n",
    "from stat_by_month_by_year\n",
    "GROUP BY month\n",
    "ORDER BY AVG(revenue) desc\n",
    "limit 1\n",
    "''')\n",
    "\n",
    "# Output print\n",
    "column_names = [desc[0] for desc in q.description]\n",
    "pd.DataFrame(q.fetchall(), columns=column_names)"
   ],
   "metadata": {
    "collapsed": false
   }
  },
  {
   "cell_type": "markdown",
   "source": [
    "### Case 2\n",
    "Нахожу за всё время конкретный месяц, за который была получена наибольшая выручка"
   ],
   "metadata": {
    "collapsed": false
   }
  },
  {
   "cell_type": "code",
   "execution_count": 11,
   "outputs": [
    {
     "data": {
      "text/plain": "   month date_month  revenue_by_month\n0  April    2022-04             44925",
      "text/html": "<div>\n<style scoped>\n    .dataframe tbody tr th:only-of-type {\n        vertical-align: middle;\n    }\n\n    .dataframe tbody tr th {\n        vertical-align: top;\n    }\n\n    .dataframe thead th {\n        text-align: right;\n    }\n</style>\n<table border=\"1\" class=\"dataframe\">\n  <thead>\n    <tr style=\"text-align: right;\">\n      <th></th>\n      <th>month</th>\n      <th>date_month</th>\n      <th>revenue_by_month</th>\n    </tr>\n  </thead>\n  <tbody>\n    <tr>\n      <th>0</th>\n      <td>April</td>\n      <td>2022-04</td>\n      <td>44925</td>\n    </tr>\n  </tbody>\n</table>\n</div>"
     },
     "execution_count": 11,
     "metadata": {},
     "output_type": "execute_result"
    }
   ],
   "source": [
    "q.execute('''\n",
    "SELECT trim(to_char(date, 'Month'))                                        as month\n",
    "     , trim(to_char(date, 'YYYY-MM'))                                      as date_month\n",
    "     , sum(t_older_35.price) OVER (PARTITION BY date_trunc('month', date)) as revenue_by_month\n",
    "FROM (SELECT date, price\n",
    "      FROM \"Purchases\"\n",
    "               LEFT JOIN \"Users\" USING (\"userId\")\n",
    "      WHERE \"Users\".\"Age\" >= 35) t_older_35\n",
    "\n",
    "ORDER BY revenue_by_month DESC\n",
    "LIMIT 1\n",
    "''')\n",
    "\n",
    "# Output print\n",
    "column_names = [desc[0] for desc in q.description]\n",
    "pd.DataFrame(q.fetchall(), columns=column_names)"
   ],
   "metadata": {
    "collapsed": false
   }
  },
  {
   "cell_type": "markdown",
   "source": [
    "## Task C\n",
    "В) какой товар обеспечивает дает наибольший вклад в выручку за последний год\n",
    "- \"за последний год\" интерпретирую как за последние 365 дней (альтернативно можно за период с 1 января, такой способ использован в следующем задание)"
   ],
   "metadata": {
    "collapsed": false
   }
  },
  {
   "cell_type": "code",
   "execution_count": 12,
   "outputs": [
    {
     "data": {
      "text/plain": "   itemId  revenue\n0      79    29000",
      "text/html": "<div>\n<style scoped>\n    .dataframe tbody tr th:only-of-type {\n        vertical-align: middle;\n    }\n\n    .dataframe tbody tr th {\n        vertical-align: top;\n    }\n\n    .dataframe thead th {\n        text-align: right;\n    }\n</style>\n<table border=\"1\" class=\"dataframe\">\n  <thead>\n    <tr style=\"text-align: right;\">\n      <th></th>\n      <th>itemId</th>\n      <th>revenue</th>\n    </tr>\n  </thead>\n  <tbody>\n    <tr>\n      <th>0</th>\n      <td>79</td>\n      <td>29000</td>\n    </tr>\n  </tbody>\n</table>\n</div>"
     },
     "execution_count": 12,
     "metadata": {},
     "output_type": "execute_result"
    }
   ],
   "source": [
    "q.execute('''\n",
    "SELECT \"itemId\"\n",
    "     , sum(\"Items\".\"price\") as revenue\n",
    "FROM \"Purchases\"\n",
    "         LEFT JOIN \"Items\" USING (\"itemId\")\n",
    "WHERE date >= current_date - interval '365 days'\n",
    "GROUP BY \"itemId\"\n",
    "order by 2 desc\n",
    "limit 1\n",
    "''')\n",
    "\n",
    "# Output print\n",
    "column_names = [desc[0] for desc in q.description]\n",
    "pd.DataFrame(q.fetchall(), columns=column_names)"
   ],
   "metadata": {
    "collapsed": false
   }
  },
  {
   "cell_type": "markdown",
   "source": [
    "## Task D\n",
    "Г) топ-3 товаров по выручке и их доля в общей выручке за любой год\n",
    "- \"любой год\" интерпретирую, как год, на моё усмотрение. Буду рассчитать за идущий год\n"
   ],
   "metadata": {
    "collapsed": false
   }
  },
  {
   "cell_type": "code",
   "execution_count": 13,
   "outputs": [
    {
     "data": {
      "text/plain": "   itemId  revenue revenue_share\n0       4    19590          6.67\n1      52    18478          6.29\n2      10    17550          5.98",
      "text/html": "<div>\n<style scoped>\n    .dataframe tbody tr th:only-of-type {\n        vertical-align: middle;\n    }\n\n    .dataframe tbody tr th {\n        vertical-align: top;\n    }\n\n    .dataframe thead th {\n        text-align: right;\n    }\n</style>\n<table border=\"1\" class=\"dataframe\">\n  <thead>\n    <tr style=\"text-align: right;\">\n      <th></th>\n      <th>itemId</th>\n      <th>revenue</th>\n      <th>revenue_share</th>\n    </tr>\n  </thead>\n  <tbody>\n    <tr>\n      <th>0</th>\n      <td>4</td>\n      <td>19590</td>\n      <td>6.67</td>\n    </tr>\n    <tr>\n      <th>1</th>\n      <td>52</td>\n      <td>18478</td>\n      <td>6.29</td>\n    </tr>\n    <tr>\n      <th>2</th>\n      <td>10</td>\n      <td>17550</td>\n      <td>5.98</td>\n    </tr>\n  </tbody>\n</table>\n</div>"
     },
     "execution_count": 13,
     "metadata": {},
     "output_type": "execute_result"
    }
   ],
   "source": [
    "q.execute('''\n",
    "with revenue_by_item AS (SELECT \"itemId\"\n",
    "                              , sum(\"Items\".\"price\") as revenue\n",
    "                         FROM \"Purchases\"\n",
    "                                  LEFT JOIN \"Items\" USING (\"itemId\")\n",
    "                         WHERE date >= date_trunc('year', current_date)\n",
    "                         GROUP BY \"itemId\")\n",
    "\n",
    "\n",
    "select \"itemId\"\n",
    "     , revenue\n",
    "     , round(revenue * 100.0 / (select sum(revenue) from revenue_by_item), 2) as revenue_share\n",
    "FROM revenue_by_item\n",
    "ORDER BY 2 desc\n",
    "LIMIT 3\n",
    "''')\n",
    "\n",
    "# Output print\n",
    "column_names = [desc[0] for desc in q.description]\n",
    "pd.DataFrame(q.fetchall(), columns=column_names)"
   ],
   "metadata": {
    "collapsed": false
   }
  },
  {
   "cell_type": "code",
   "execution_count": 13,
   "outputs": [],
   "source": [],
   "metadata": {
    "collapsed": false
   }
  }
 ],
 "metadata": {
  "kernelspec": {
   "display_name": "Python 3",
   "language": "python",
   "name": "python3"
  },
  "language_info": {
   "codemirror_mode": {
    "name": "ipython",
    "version": 2
   },
   "file_extension": ".py",
   "mimetype": "text/x-python",
   "name": "python",
   "nbconvert_exporter": "python",
   "pygments_lexer": "ipython2",
   "version": "2.7.6"
  }
 },
 "nbformat": 4,
 "nbformat_minor": 0
}
