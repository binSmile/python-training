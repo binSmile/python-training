{
 "cells": [
  {
   "cell_type": "code",
   "execution_count": 1,
   "metadata": {
    "collapsed": true,
    "ExecuteTime": {
     "end_time": "2023-06-05T13:46:14.840287Z",
     "start_time": "2023-06-05T13:46:12.229202100Z"
    }
   },
   "outputs": [],
   "source": [
    "import pandas as pd"
   ]
  },
  {
   "cell_type": "code",
   "execution_count": 4,
   "outputs": [],
   "source": [
    "df = pd.read_csv('C://Users//al//Downloads//daloradius__20230605.csv', sep=',')"
   ],
   "metadata": {
    "collapsed": false,
    "ExecuteTime": {
     "end_time": "2023-06-05T13:48:25.110945900Z",
     "start_time": "2023-06-05T13:48:24.887358100Z"
    }
   }
  },
  {
   "cell_type": "code",
   "execution_count": 21,
   "outputs": [],
   "source": [
    "df2 = df.drop_duplicates(subset='username',keep='first')"
   ],
   "metadata": {
    "collapsed": false,
    "ExecuteTime": {
     "end_time": "2023-06-05T13:54:09.463106Z",
     "start_time": "2023-06-05T13:54:09.441106300Z"
    }
   }
  },
  {
   "cell_type": "code",
   "execution_count": 16,
   "outputs": [],
   "source": [
    "df.columns = ['id','fullname','username','attribute','auth']"
   ],
   "metadata": {
    "collapsed": false,
    "ExecuteTime": {
     "end_time": "2023-06-05T13:53:22.517092Z",
     "start_time": "2023-06-05T13:53:22.507095400Z"
    }
   }
  },
  {
   "cell_type": "code",
   "execution_count": 17,
   "outputs": [
    {
     "data": {
      "text/plain": "Index(['id', 'fullname', 'username', 'attribute', 'auth'], dtype='object')"
     },
     "execution_count": 17,
     "metadata": {},
     "output_type": "execute_result"
    }
   ],
   "source": [
    "df.columns"
   ],
   "metadata": {
    "collapsed": false,
    "ExecuteTime": {
     "end_time": "2023-06-05T13:53:26.518733500Z",
     "start_time": "2023-06-05T13:53:26.476738800Z"
    }
   }
  },
  {
   "cell_type": "code",
   "execution_count": 23,
   "outputs": [
    {
     "data": {
      "text/plain": "              username              auth\n0             binsmile          h6ep69vQ\n41           akaptsova          gm85NDRb\n43        yalitinskaya        pJrt0oarGs\n489            MVV4107  JBQ9h6etHzTR9c3k\n504        T_A_Mamaeva  387skd3BGHXGnApY\n560        somno_sonya  Q4vtDrHs22uNgMnw\n766           save1yev  4MQTHZjr6rAv3WV5\n4241         korgechka  gjdz22ufDNRQJnj6\n4315  siberian_ostrich  M4yqvTycUvPuD7Ck\n4539        superyasha  swkCqcdBTu7RtTsB\n5274           ms_dmdv  TGHM4hYayRUarvCC\n5355        gerdtelena  sAnWqMDrrbR5kGwp",
      "text/html": "<div>\n<style scoped>\n    .dataframe tbody tr th:only-of-type {\n        vertical-align: middle;\n    }\n\n    .dataframe tbody tr th {\n        vertical-align: top;\n    }\n\n    .dataframe thead th {\n        text-align: right;\n    }\n</style>\n<table border=\"1\" class=\"dataframe\">\n  <thead>\n    <tr style=\"text-align: right;\">\n      <th></th>\n      <th>username</th>\n      <th>auth</th>\n    </tr>\n  </thead>\n  <tbody>\n    <tr>\n      <th>0</th>\n      <td>binsmile</td>\n      <td>h6ep69vQ</td>\n    </tr>\n    <tr>\n      <th>41</th>\n      <td>akaptsova</td>\n      <td>gm85NDRb</td>\n    </tr>\n    <tr>\n      <th>43</th>\n      <td>yalitinskaya</td>\n      <td>pJrt0oarGs</td>\n    </tr>\n    <tr>\n      <th>489</th>\n      <td>MVV4107</td>\n      <td>JBQ9h6etHzTR9c3k</td>\n    </tr>\n    <tr>\n      <th>504</th>\n      <td>T_A_Mamaeva</td>\n      <td>387skd3BGHXGnApY</td>\n    </tr>\n    <tr>\n      <th>560</th>\n      <td>somno_sonya</td>\n      <td>Q4vtDrHs22uNgMnw</td>\n    </tr>\n    <tr>\n      <th>766</th>\n      <td>save1yev</td>\n      <td>4MQTHZjr6rAv3WV5</td>\n    </tr>\n    <tr>\n      <th>4241</th>\n      <td>korgechka</td>\n      <td>gjdz22ufDNRQJnj6</td>\n    </tr>\n    <tr>\n      <th>4315</th>\n      <td>siberian_ostrich</td>\n      <td>M4yqvTycUvPuD7Ck</td>\n    </tr>\n    <tr>\n      <th>4539</th>\n      <td>superyasha</td>\n      <td>swkCqcdBTu7RtTsB</td>\n    </tr>\n    <tr>\n      <th>5274</th>\n      <td>ms_dmdv</td>\n      <td>TGHM4hYayRUarvCC</td>\n    </tr>\n    <tr>\n      <th>5355</th>\n      <td>gerdtelena</td>\n      <td>sAnWqMDrrbR5kGwp</td>\n    </tr>\n  </tbody>\n</table>\n</div>"
     },
     "execution_count": 23,
     "metadata": {},
     "output_type": "execute_result"
    }
   ],
   "source": [
    "df2[['username','auth']]"
   ],
   "metadata": {
    "collapsed": false,
    "ExecuteTime": {
     "end_time": "2023-06-05T13:54:23.642163400Z",
     "start_time": "2023-06-05T13:54:23.616436Z"
    }
   }
  },
  {
   "cell_type": "code",
   "execution_count": 26,
   "outputs": [
    {
     "name": "stderr",
     "output_type": "stream",
     "text": [
      "C:\\Users\\al\\AppData\\Local\\Temp\\ipykernel_1496\\3270062410.py:1: SettingWithCopyWarning: \n",
      "A value is trying to be set on a copy of a slice from a DataFrame.\n",
      "Try using .loc[row_indexer,col_indexer] = value instead\n",
      "\n",
      "See the caveats in the documentation: https://pandas.pydata.org/pandas-docs/stable/user_guide/indexing.html#returning-a-view-versus-a-copy\n",
      "  df2['output'] = df2['username'] + ' %any% : EAP \"' + df2['auth'] + '\"'\n"
     ]
    }
   ],
   "source": [
    "df2['output'] = df2['username'] + ' %any% : EAP \"' + df2['auth'] + '\"'\n"
   ],
   "metadata": {
    "collapsed": false,
    "ExecuteTime": {
     "end_time": "2023-06-05T13:58:42.186548800Z",
     "start_time": "2023-06-05T13:58:42.159018Z"
    }
   }
  },
  {
   "cell_type": "code",
   "execution_count": 27,
   "outputs": [
    {
     "data": {
      "text/plain": "      id fullname          username           attribute              auth   \n0      8                   binsmile  Cleartext-Password          h6ep69vQ  \\\n41    11                  akaptsova  Cleartext-Password          gm85NDRb   \n43    12               yalitinskaya  Cleartext-Password        pJrt0oarGs   \n489   13                    MVV4107  Cleartext-Password  JBQ9h6etHzTR9c3k   \n504   14                T_A_Mamaeva  Cleartext-Password  387skd3BGHXGnApY   \n560   15                somno_sonya  Cleartext-Password  Q4vtDrHs22uNgMnw   \n766   16                   save1yev  Cleartext-Password  4MQTHZjr6rAv3WV5   \n4241  17                  korgechka  Cleartext-Password  gjdz22ufDNRQJnj6   \n4315  18           siberian_ostrich  Cleartext-Password  M4yqvTycUvPuD7Ck   \n4539  19                 superyasha  Cleartext-Password  swkCqcdBTu7RtTsB   \n5274  20                    ms_dmdv  Cleartext-Password  TGHM4hYayRUarvCC   \n5355  21                 gerdtelena  Cleartext-Password  sAnWqMDrrbR5kGwp   \n\n                                               output  \n0                     binsmile %any% : EAP \"h6ep69vQ\"  \n41                   akaptsova %any% : EAP \"gm85NDRb\"  \n43              yalitinskaya %any% : EAP \"pJrt0oarGs\"  \n489            MVV4107 %any% : EAP \"JBQ9h6etHzTR9c3k\"  \n504        T_A_Mamaeva %any% : EAP \"387skd3BGHXGnApY\"  \n560        somno_sonya %any% : EAP \"Q4vtDrHs22uNgMnw\"  \n766           save1yev %any% : EAP \"4MQTHZjr6rAv3WV5\"  \n4241         korgechka %any% : EAP \"gjdz22ufDNRQJnj6\"  \n4315  siberian_ostrich %any% : EAP \"M4yqvTycUvPuD7Ck\"  \n4539        superyasha %any% : EAP \"swkCqcdBTu7RtTsB\"  \n5274           ms_dmdv %any% : EAP \"TGHM4hYayRUarvCC\"  \n5355        gerdtelena %any% : EAP \"sAnWqMDrrbR5kGwp\"  ",
      "text/html": "<div>\n<style scoped>\n    .dataframe tbody tr th:only-of-type {\n        vertical-align: middle;\n    }\n\n    .dataframe tbody tr th {\n        vertical-align: top;\n    }\n\n    .dataframe thead th {\n        text-align: right;\n    }\n</style>\n<table border=\"1\" class=\"dataframe\">\n  <thead>\n    <tr style=\"text-align: right;\">\n      <th></th>\n      <th>id</th>\n      <th>fullname</th>\n      <th>username</th>\n      <th>attribute</th>\n      <th>auth</th>\n      <th>output</th>\n    </tr>\n  </thead>\n  <tbody>\n    <tr>\n      <th>0</th>\n      <td>8</td>\n      <td></td>\n      <td>binsmile</td>\n      <td>Cleartext-Password</td>\n      <td>h6ep69vQ</td>\n      <td>binsmile %any% : EAP \"h6ep69vQ\"</td>\n    </tr>\n    <tr>\n      <th>41</th>\n      <td>11</td>\n      <td></td>\n      <td>akaptsova</td>\n      <td>Cleartext-Password</td>\n      <td>gm85NDRb</td>\n      <td>akaptsova %any% : EAP \"gm85NDRb\"</td>\n    </tr>\n    <tr>\n      <th>43</th>\n      <td>12</td>\n      <td></td>\n      <td>yalitinskaya</td>\n      <td>Cleartext-Password</td>\n      <td>pJrt0oarGs</td>\n      <td>yalitinskaya %any% : EAP \"pJrt0oarGs\"</td>\n    </tr>\n    <tr>\n      <th>489</th>\n      <td>13</td>\n      <td></td>\n      <td>MVV4107</td>\n      <td>Cleartext-Password</td>\n      <td>JBQ9h6etHzTR9c3k</td>\n      <td>MVV4107 %any% : EAP \"JBQ9h6etHzTR9c3k\"</td>\n    </tr>\n    <tr>\n      <th>504</th>\n      <td>14</td>\n      <td></td>\n      <td>T_A_Mamaeva</td>\n      <td>Cleartext-Password</td>\n      <td>387skd3BGHXGnApY</td>\n      <td>T_A_Mamaeva %any% : EAP \"387skd3BGHXGnApY\"</td>\n    </tr>\n    <tr>\n      <th>560</th>\n      <td>15</td>\n      <td></td>\n      <td>somno_sonya</td>\n      <td>Cleartext-Password</td>\n      <td>Q4vtDrHs22uNgMnw</td>\n      <td>somno_sonya %any% : EAP \"Q4vtDrHs22uNgMnw\"</td>\n    </tr>\n    <tr>\n      <th>766</th>\n      <td>16</td>\n      <td></td>\n      <td>save1yev</td>\n      <td>Cleartext-Password</td>\n      <td>4MQTHZjr6rAv3WV5</td>\n      <td>save1yev %any% : EAP \"4MQTHZjr6rAv3WV5\"</td>\n    </tr>\n    <tr>\n      <th>4241</th>\n      <td>17</td>\n      <td></td>\n      <td>korgechka</td>\n      <td>Cleartext-Password</td>\n      <td>gjdz22ufDNRQJnj6</td>\n      <td>korgechka %any% : EAP \"gjdz22ufDNRQJnj6\"</td>\n    </tr>\n    <tr>\n      <th>4315</th>\n      <td>18</td>\n      <td></td>\n      <td>siberian_ostrich</td>\n      <td>Cleartext-Password</td>\n      <td>M4yqvTycUvPuD7Ck</td>\n      <td>siberian_ostrich %any% : EAP \"M4yqvTycUvPuD7Ck\"</td>\n    </tr>\n    <tr>\n      <th>4539</th>\n      <td>19</td>\n      <td></td>\n      <td>superyasha</td>\n      <td>Cleartext-Password</td>\n      <td>swkCqcdBTu7RtTsB</td>\n      <td>superyasha %any% : EAP \"swkCqcdBTu7RtTsB\"</td>\n    </tr>\n    <tr>\n      <th>5274</th>\n      <td>20</td>\n      <td></td>\n      <td>ms_dmdv</td>\n      <td>Cleartext-Password</td>\n      <td>TGHM4hYayRUarvCC</td>\n      <td>ms_dmdv %any% : EAP \"TGHM4hYayRUarvCC\"</td>\n    </tr>\n    <tr>\n      <th>5355</th>\n      <td>21</td>\n      <td></td>\n      <td>gerdtelena</td>\n      <td>Cleartext-Password</td>\n      <td>sAnWqMDrrbR5kGwp</td>\n      <td>gerdtelena %any% : EAP \"sAnWqMDrrbR5kGwp\"</td>\n    </tr>\n  </tbody>\n</table>\n</div>"
     },
     "execution_count": 27,
     "metadata": {},
     "output_type": "execute_result"
    }
   ],
   "source": [
    "df2"
   ],
   "metadata": {
    "collapsed": false,
    "ExecuteTime": {
     "end_time": "2023-06-05T13:58:50.762377600Z",
     "start_time": "2023-06-05T13:58:50.719136800Z"
    }
   }
  },
  {
   "cell_type": "code",
   "execution_count": 29,
   "outputs": [],
   "source": [
    "df2.output.to_csv('output.txt', index=False, header=False)"
   ],
   "metadata": {
    "collapsed": false,
    "ExecuteTime": {
     "end_time": "2023-06-05T13:59:52.842073100Z",
     "start_time": "2023-06-05T13:59:52.788504900Z"
    }
   }
  },
  {
   "cell_type": "code",
   "execution_count": null,
   "outputs": [],
   "source": [],
   "metadata": {
    "collapsed": false
   }
  }
 ],
 "metadata": {
  "kernelspec": {
   "display_name": "Python 3",
   "language": "python",
   "name": "python3"
  },
  "language_info": {
   "codemirror_mode": {
    "name": "ipython",
    "version": 2
   },
   "file_extension": ".py",
   "mimetype": "text/x-python",
   "name": "python",
   "nbconvert_exporter": "python",
   "pygments_lexer": "ipython2",
   "version": "2.7.6"
  }
 },
 "nbformat": 4,
 "nbformat_minor": 0
}
